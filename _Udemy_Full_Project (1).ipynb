{
 "cells": [
  {
   "cell_type": "code",
   "execution_count": 1,
   "id": "494de4b1-78e2-4a33-b624-55fca707b1fb",
   "metadata": {},
   "outputs": [],
   "source": [
    "import numpy as np\n",
    "import pandas as pd \n",
    "import seaborn as sns \n",
    "import matplotlib.pyplot as plt "
   ]
  },
  {
   "cell_type": "code",
   "execution_count": 2,
   "id": "fef392ab-dd47-454c-85da-031f32c012f9",
   "metadata": {},
   "outputs": [
    {
     "data": {
      "text/html": [
       "<div>\n",
       "<style scoped>\n",
       "    .dataframe tbody tr th:only-of-type {\n",
       "        vertical-align: middle;\n",
       "    }\n",
       "\n",
       "    .dataframe tbody tr th {\n",
       "        vertical-align: top;\n",
       "    }\n",
       "\n",
       "    .dataframe thead th {\n",
       "        text-align: right;\n",
       "    }\n",
       "</style>\n",
       "<table border=\"1\" class=\"dataframe\">\n",
       "  <thead>\n",
       "    <tr style=\"text-align: right;\">\n",
       "      <th></th>\n",
       "      <th>Unnamed: 0</th>\n",
       "      <th>course_id</th>\n",
       "      <th>course_title</th>\n",
       "      <th>url</th>\n",
       "      <th>is_paid</th>\n",
       "      <th>price</th>\n",
       "      <th>num_subscribers</th>\n",
       "      <th>num_reviews</th>\n",
       "      <th>num_lectures</th>\n",
       "      <th>level</th>\n",
       "      <th>content_duration</th>\n",
       "      <th>published_timestamp</th>\n",
       "      <th>subject</th>\n",
       "      <th>clean_course_title</th>\n",
       "    </tr>\n",
       "  </thead>\n",
       "  <tbody>\n",
       "    <tr>\n",
       "      <th>0</th>\n",
       "      <td>0</td>\n",
       "      <td>1070968</td>\n",
       "      <td>Ultimate Investment Banking Course</td>\n",
       "      <td>https://www.udemy.com/ultimate-investment-bank...</td>\n",
       "      <td>True</td>\n",
       "      <td>200</td>\n",
       "      <td>2147</td>\n",
       "      <td>23</td>\n",
       "      <td>51</td>\n",
       "      <td>All Levels</td>\n",
       "      <td>1.5 hours</td>\n",
       "      <td>2017-01-18T20:58:58Z</td>\n",
       "      <td>Business Finance</td>\n",
       "      <td>Ultimate Investment Banking Course</td>\n",
       "    </tr>\n",
       "    <tr>\n",
       "      <th>1</th>\n",
       "      <td>1</td>\n",
       "      <td>1113822</td>\n",
       "      <td>Complete GST Course &amp; Certification - Grow You...</td>\n",
       "      <td>https://www.udemy.com/goods-and-services-tax/</td>\n",
       "      <td>True</td>\n",
       "      <td>75</td>\n",
       "      <td>2792</td>\n",
       "      <td>923</td>\n",
       "      <td>274</td>\n",
       "      <td>All Levels</td>\n",
       "      <td>39 hours</td>\n",
       "      <td>2017-03-09T16:34:20Z</td>\n",
       "      <td>Business Finance</td>\n",
       "      <td>Complete GST Course  Certification  Grow Practice</td>\n",
       "    </tr>\n",
       "    <tr>\n",
       "      <th>2</th>\n",
       "      <td>2</td>\n",
       "      <td>1006314</td>\n",
       "      <td>Financial Modeling for Business Analysts and C...</td>\n",
       "      <td>https://www.udemy.com/financial-modeling-for-b...</td>\n",
       "      <td>True</td>\n",
       "      <td>45</td>\n",
       "      <td>2174</td>\n",
       "      <td>74</td>\n",
       "      <td>51</td>\n",
       "      <td>Intermediate Level</td>\n",
       "      <td>2.5 hours</td>\n",
       "      <td>2016-12-19T19:26:30Z</td>\n",
       "      <td>Business Finance</td>\n",
       "      <td>Financial Modeling Business Analysts Consultants</td>\n",
       "    </tr>\n",
       "    <tr>\n",
       "      <th>3</th>\n",
       "      <td>3</td>\n",
       "      <td>1210588</td>\n",
       "      <td>Beginner to Pro - Financial Analysis in Excel ...</td>\n",
       "      <td>https://www.udemy.com/complete-excel-finance-c...</td>\n",
       "      <td>True</td>\n",
       "      <td>95</td>\n",
       "      <td>2451</td>\n",
       "      <td>11</td>\n",
       "      <td>36</td>\n",
       "      <td>All Levels</td>\n",
       "      <td>3 hours</td>\n",
       "      <td>2017-05-30T20:07:24Z</td>\n",
       "      <td>Business Finance</td>\n",
       "      <td>Beginner Pro  Financial Analysis Excel 2017</td>\n",
       "    </tr>\n",
       "    <tr>\n",
       "      <th>4</th>\n",
       "      <td>4</td>\n",
       "      <td>1011058</td>\n",
       "      <td>How To Maximize Your Profits Trading Options</td>\n",
       "      <td>https://www.udemy.com/how-to-maximize-your-pro...</td>\n",
       "      <td>True</td>\n",
       "      <td>200</td>\n",
       "      <td>1276</td>\n",
       "      <td>45</td>\n",
       "      <td>26</td>\n",
       "      <td>Intermediate Level</td>\n",
       "      <td>2 hours</td>\n",
       "      <td>2016-12-13T14:57:18Z</td>\n",
       "      <td>Business Finance</td>\n",
       "      <td>Maximize Profits Trading Options</td>\n",
       "    </tr>\n",
       "    <tr>\n",
       "      <th>...</th>\n",
       "      <td>...</td>\n",
       "      <td>...</td>\n",
       "      <td>...</td>\n",
       "      <td>...</td>\n",
       "      <td>...</td>\n",
       "      <td>...</td>\n",
       "      <td>...</td>\n",
       "      <td>...</td>\n",
       "      <td>...</td>\n",
       "      <td>...</td>\n",
       "      <td>...</td>\n",
       "      <td>...</td>\n",
       "      <td>...</td>\n",
       "      <td>...</td>\n",
       "    </tr>\n",
       "    <tr>\n",
       "      <th>3678</th>\n",
       "      <td>3678</td>\n",
       "      <td>775618</td>\n",
       "      <td>Learn jQuery from Scratch - Master of JavaScri...</td>\n",
       "      <td>https://www.udemy.com/easy-jquery-for-beginner...</td>\n",
       "      <td>True</td>\n",
       "      <td>100</td>\n",
       "      <td>1040</td>\n",
       "      <td>14</td>\n",
       "      <td>21</td>\n",
       "      <td>All Levels</td>\n",
       "      <td>2 hours</td>\n",
       "      <td>2016-06-14T17:36:46Z</td>\n",
       "      <td>Web Development</td>\n",
       "      <td>Learn jQuery Scratch  Master JavaScript library</td>\n",
       "    </tr>\n",
       "    <tr>\n",
       "      <th>3679</th>\n",
       "      <td>3679</td>\n",
       "      <td>1088178</td>\n",
       "      <td>How To Design A WordPress Website With No Codi...</td>\n",
       "      <td>https://www.udemy.com/how-to-make-a-wordpress-...</td>\n",
       "      <td>True</td>\n",
       "      <td>25</td>\n",
       "      <td>306</td>\n",
       "      <td>3</td>\n",
       "      <td>42</td>\n",
       "      <td>Beginner Level</td>\n",
       "      <td>3.5 hours</td>\n",
       "      <td>2017-03-10T22:24:30Z</td>\n",
       "      <td>Web Development</td>\n",
       "      <td>Design WordPress Website Coding</td>\n",
       "    </tr>\n",
       "    <tr>\n",
       "      <th>3680</th>\n",
       "      <td>3680</td>\n",
       "      <td>635248</td>\n",
       "      <td>Learn and Build using Polymer</td>\n",
       "      <td>https://www.udemy.com/learn-and-build-using-po...</td>\n",
       "      <td>True</td>\n",
       "      <td>40</td>\n",
       "      <td>513</td>\n",
       "      <td>169</td>\n",
       "      <td>48</td>\n",
       "      <td>All Levels</td>\n",
       "      <td>3.5 hours</td>\n",
       "      <td>2015-12-30T16:41:42Z</td>\n",
       "      <td>Web Development</td>\n",
       "      <td>Learn Build Polymer</td>\n",
       "    </tr>\n",
       "    <tr>\n",
       "      <th>3681</th>\n",
       "      <td>3681</td>\n",
       "      <td>905096</td>\n",
       "      <td>CSS Animations: Create Amazing Effects on Your...</td>\n",
       "      <td>https://www.udemy.com/css-animations-create-am...</td>\n",
       "      <td>True</td>\n",
       "      <td>50</td>\n",
       "      <td>300</td>\n",
       "      <td>31</td>\n",
       "      <td>38</td>\n",
       "      <td>All Levels</td>\n",
       "      <td>3 hours</td>\n",
       "      <td>2016-08-11T19:06:15Z</td>\n",
       "      <td>Web Development</td>\n",
       "      <td>CSS Animations Create Amazing Effects Website</td>\n",
       "    </tr>\n",
       "    <tr>\n",
       "      <th>3682</th>\n",
       "      <td>3682</td>\n",
       "      <td>297602</td>\n",
       "      <td>Using MODX CMS to Build Websites: A Beginner's...</td>\n",
       "      <td>https://www.udemy.com/using-modx-cms-to-build-...</td>\n",
       "      <td>True</td>\n",
       "      <td>45</td>\n",
       "      <td>901</td>\n",
       "      <td>36</td>\n",
       "      <td>20</td>\n",
       "      <td>Beginner Level</td>\n",
       "      <td>2 hours</td>\n",
       "      <td>2014-09-28T19:51:11Z</td>\n",
       "      <td>Web Development</td>\n",
       "      <td>MODX CMS Build Websites Beginners Guide</td>\n",
       "    </tr>\n",
       "  </tbody>\n",
       "</table>\n",
       "<p>3683 rows × 14 columns</p>\n",
       "</div>"
      ],
      "text/plain": [
       "      Unnamed: 0  course_id  \\\n",
       "0              0    1070968   \n",
       "1              1    1113822   \n",
       "2              2    1006314   \n",
       "3              3    1210588   \n",
       "4              4    1011058   \n",
       "...          ...        ...   \n",
       "3678        3678     775618   \n",
       "3679        3679    1088178   \n",
       "3680        3680     635248   \n",
       "3681        3681     905096   \n",
       "3682        3682     297602   \n",
       "\n",
       "                                           course_title  \\\n",
       "0                    Ultimate Investment Banking Course   \n",
       "1     Complete GST Course & Certification - Grow You...   \n",
       "2     Financial Modeling for Business Analysts and C...   \n",
       "3     Beginner to Pro - Financial Analysis in Excel ...   \n",
       "4          How To Maximize Your Profits Trading Options   \n",
       "...                                                 ...   \n",
       "3678  Learn jQuery from Scratch - Master of JavaScri...   \n",
       "3679  How To Design A WordPress Website With No Codi...   \n",
       "3680                      Learn and Build using Polymer   \n",
       "3681  CSS Animations: Create Amazing Effects on Your...   \n",
       "3682  Using MODX CMS to Build Websites: A Beginner's...   \n",
       "\n",
       "                                                    url is_paid price  \\\n",
       "0     https://www.udemy.com/ultimate-investment-bank...    True   200   \n",
       "1         https://www.udemy.com/goods-and-services-tax/    True    75   \n",
       "2     https://www.udemy.com/financial-modeling-for-b...    True    45   \n",
       "3     https://www.udemy.com/complete-excel-finance-c...    True    95   \n",
       "4     https://www.udemy.com/how-to-maximize-your-pro...    True   200   \n",
       "...                                                 ...     ...   ...   \n",
       "3678  https://www.udemy.com/easy-jquery-for-beginner...    True   100   \n",
       "3679  https://www.udemy.com/how-to-make-a-wordpress-...    True    25   \n",
       "3680  https://www.udemy.com/learn-and-build-using-po...    True    40   \n",
       "3681  https://www.udemy.com/css-animations-create-am...    True    50   \n",
       "3682  https://www.udemy.com/using-modx-cms-to-build-...    True    45   \n",
       "\n",
       "      num_subscribers  num_reviews  num_lectures               level  \\\n",
       "0                2147           23            51          All Levels   \n",
       "1                2792          923           274          All Levels   \n",
       "2                2174           74            51  Intermediate Level   \n",
       "3                2451           11            36          All Levels   \n",
       "4                1276           45            26  Intermediate Level   \n",
       "...               ...          ...           ...                 ...   \n",
       "3678             1040           14            21          All Levels   \n",
       "3679              306            3            42      Beginner Level   \n",
       "3680              513          169            48          All Levels   \n",
       "3681              300           31            38          All Levels   \n",
       "3682              901           36            20      Beginner Level   \n",
       "\n",
       "     content_duration   published_timestamp           subject  \\\n",
       "0           1.5 hours  2017-01-18T20:58:58Z  Business Finance   \n",
       "1            39 hours  2017-03-09T16:34:20Z  Business Finance   \n",
       "2           2.5 hours  2016-12-19T19:26:30Z  Business Finance   \n",
       "3             3 hours  2017-05-30T20:07:24Z  Business Finance   \n",
       "4             2 hours  2016-12-13T14:57:18Z  Business Finance   \n",
       "...               ...                   ...               ...   \n",
       "3678          2 hours  2016-06-14T17:36:46Z   Web Development   \n",
       "3679        3.5 hours  2017-03-10T22:24:30Z   Web Development   \n",
       "3680        3.5 hours  2015-12-30T16:41:42Z   Web Development   \n",
       "3681          3 hours  2016-08-11T19:06:15Z   Web Development   \n",
       "3682          2 hours  2014-09-28T19:51:11Z   Web Development   \n",
       "\n",
       "                                     clean_course_title  \n",
       "0                    Ultimate Investment Banking Course  \n",
       "1     Complete GST Course  Certification  Grow Practice  \n",
       "2      Financial Modeling Business Analysts Consultants  \n",
       "3           Beginner Pro  Financial Analysis Excel 2017  \n",
       "4                      Maximize Profits Trading Options  \n",
       "...                                                 ...  \n",
       "3678    Learn jQuery Scratch  Master JavaScript library  \n",
       "3679                    Design WordPress Website Coding  \n",
       "3680                                Learn Build Polymer  \n",
       "3681      CSS Animations Create Amazing Effects Website  \n",
       "3682            MODX CMS Build Websites Beginners Guide  \n",
       "\n",
       "[3683 rows x 14 columns]"
      ]
     },
     "execution_count": 2,
     "metadata": {},
     "output_type": "execute_result"
    }
   ],
   "source": [
    "df=pd.read_csv(\"D:\\\\Alaa_Files\\\\IMT_Data_Analytics_Diploma\\\\Udemy_Projects\\\\udemy_courses_clean.csv\")\n",
    "df"
   ]
  },
  {
   "cell_type": "code",
   "execution_count": 3,
   "id": "978bd619-e8ec-4c34-ac8a-7ae1206f3329",
   "metadata": {},
   "outputs": [
    {
     "name": "stdout",
     "output_type": "stream",
     "text": [
      "<class 'pandas.core.frame.DataFrame'>\n",
      "RangeIndex: 3683 entries, 0 to 3682\n",
      "Data columns (total 14 columns):\n",
      " #   Column               Non-Null Count  Dtype \n",
      "---  ------               --------------  ----- \n",
      " 0   Unnamed: 0           3683 non-null   int64 \n",
      " 1   course_id            3683 non-null   int64 \n",
      " 2   course_title         3683 non-null   object\n",
      " 3   url                  3683 non-null   object\n",
      " 4   is_paid              3683 non-null   object\n",
      " 5   price                3683 non-null   object\n",
      " 6   num_subscribers      3683 non-null   int64 \n",
      " 7   num_reviews          3683 non-null   int64 \n",
      " 8   num_lectures         3683 non-null   int64 \n",
      " 9   level                3683 non-null   object\n",
      " 10  content_duration     3683 non-null   object\n",
      " 11  published_timestamp  3683 non-null   object\n",
      " 12  subject              3683 non-null   object\n",
      " 13  clean_course_title   3663 non-null   object\n",
      "dtypes: int64(5), object(9)\n",
      "memory usage: 403.0+ KB\n"
     ]
    }
   ],
   "source": [
    "df.info()"
   ]
  },
  {
   "cell_type": "code",
   "execution_count": 4,
   "id": "27a3efb9-d7b8-4fa1-aec6-1c5493ed678b",
   "metadata": {},
   "outputs": [
    {
     "data": {
      "text/plain": [
       "Index(['Unnamed: 0', 'course_id', 'course_title', 'url', 'is_paid', 'price',\n",
       "       'num_subscribers', 'num_reviews', 'num_lectures', 'level',\n",
       "       'content_duration', 'published_timestamp', 'subject',\n",
       "       'clean_course_title'],\n",
       "      dtype='object')"
      ]
     },
     "execution_count": 4,
     "metadata": {},
     "output_type": "execute_result"
    }
   ],
   "source": [
    "df.columns"
   ]
  },
  {
   "cell_type": "code",
   "execution_count": 5,
   "id": "0a7c9ea6-01af-4385-ba0d-1c3b10b4bc28",
   "metadata": {},
   "outputs": [
    {
     "data": {
      "text/plain": [
       "Unnamed: 0              0\n",
       "course_id               0\n",
       "course_title            0\n",
       "url                     0\n",
       "is_paid                 0\n",
       "price                   0\n",
       "num_subscribers         0\n",
       "num_reviews             0\n",
       "num_lectures            0\n",
       "level                   0\n",
       "content_duration        0\n",
       "published_timestamp     0\n",
       "subject                 0\n",
       "clean_course_title     20\n",
       "dtype: int64"
      ]
     },
     "execution_count": 5,
     "metadata": {},
     "output_type": "execute_result"
    }
   ],
   "source": [
    "df.isnull().sum()"
   ]
  },
  {
   "cell_type": "code",
   "execution_count": 6,
   "id": "ad0ab57c-5efe-4e23-aede-44c57c45e34a",
   "metadata": {},
   "outputs": [
    {
     "data": {
      "text/plain": [
       "array(['Business Finance', 'Graphic Design', 'Musical Instruments',\n",
       "       'Web Development'], dtype=object)"
      ]
     },
     "execution_count": 6,
     "metadata": {},
     "output_type": "execute_result"
    }
   ],
   "source": [
    "df['subject'].unique()"
   ]
  },
  {
   "cell_type": "code",
   "execution_count": 7,
   "id": "a5aeddaa-f73b-4128-9552-ca89f5d17fc6",
   "metadata": {},
   "outputs": [
    {
     "data": {
      "text/plain": [
       "4"
      ]
     },
     "execution_count": 7,
     "metadata": {},
     "output_type": "execute_result"
    }
   ],
   "source": [
    "len(df['subject'].unique())"
   ]
  },
  {
   "cell_type": "code",
   "execution_count": 8,
   "id": "f240b1d1-3a9a-4da7-8d12-50f37938eada",
   "metadata": {},
   "outputs": [
    {
     "data": {
      "text/plain": [
       "subject\n",
       "Web Development        1200\n",
       "Business Finance       1199\n",
       "Musical Instruments     681\n",
       "Graphic Design          603\n",
       "Name: count, dtype: int64"
      ]
     },
     "execution_count": 8,
     "metadata": {},
     "output_type": "execute_result"
    }
   ],
   "source": [
    "df['subject'].value_counts()"
   ]
  },
  {
   "cell_type": "code",
   "execution_count": 9,
   "id": "a5e57ea9-6695-4870-a19f-097be85c340f",
   "metadata": {},
   "outputs": [
    {
     "data": {
      "image/png": "[encoded data removed]",
      "text/plain": [
       "<Figure size 640x480 with 1 Axes>"
      ]
     },
     "metadata": {},
     "output_type": "display_data"
    }
   ],
   "source": [
    "df['subject'].value_counts().plot(kind='bar')\n",
    "plt.xticks(rotation=45)\n",
    "plt.show()"
   ]
  },
  {
   "cell_type": "code",
   "execution_count": 10,
   "id": "01d015c4-0a77-4d7c-a6a4-f9f4948ef471",
   "metadata": {},
   "outputs": [
    {
     "data": {
      "image/png": "[encoded data removed]",
      "text/plain": [
       "<Figure size 800x800 with 1 Axes>"
      ]
     },
     "metadata": {},
     "output_type": "display_data"
    }
   ],
   "source": [
    "plt.figure(figsize=(8,8))\n",
    "sns.countplot(x=df['subject'])\n",
    "plt.xticks(rotation=45)\n",
    "plt.show()"
   ]
  },
  {
   "cell_type": "markdown",
   "id": "4fb095df-9ae5-456e-9f5c-92f513940b59",
   "metadata": {},
   "source": [
    "#operation on 2 columns \n"
   ]
  },
  {
   "cell_type": "code",
   "execution_count": 12,
   "id": "7b2b56d5-716c-4fb2-8a4b-f277d6d1a9dd",
   "metadata": {},
   "outputs": [
    {
     "data": {
      "text/plain": [
       "subject\n",
       "Business Finance       1870747\n",
       "Graphic Design         1063148\n",
       "Musical Instruments     846719\n",
       "Web Development        7980572\n",
       "Name: num_subscribers, dtype: int64"
      ]
     },
     "execution_count": 12,
     "metadata": {},
     "output_type": "execute_result"
    }
   ],
   "source": [
    "df.groupby('subject')['num_subscribers'].sum()"
   ]
  },
  {
   "cell_type": "code",
   "execution_count": 13,
   "id": "28712899-fa76-4424-a5b5-b34ee0491586",
   "metadata": {},
   "outputs": [
    {
     "data": {
      "text/plain": [
       "3193.3711648112953"
      ]
     },
     "execution_count": 13,
     "metadata": {},
     "output_type": "execute_result"
    }
   ],
   "source": [
    "df['num_subscribers'].mean()"
   ]
  },
  {
   "cell_type": "code",
   "execution_count": 14,
   "id": "bc16d538-4cd9-4e2d-ba96-7998d0045583",
   "metadata": {},
   "outputs": [
    {
     "data": {
      "text/plain": [
       "subject\n",
       "Business Finance       1560.256047\n",
       "Graphic Design         1763.097844\n",
       "Musical Instruments    1243.346549\n",
       "Web Development        6650.476667\n",
       "Name: num_subscribers, dtype: float64"
      ]
     },
     "execution_count": 14,
     "metadata": {},
     "output_type": "execute_result"
    }
   ],
   "source": [
    "df.groupby('subject')['num_subscribers'].mean()"
   ]
  },
  {
   "cell_type": "markdown",
   "id": "d284e076-f618-4d01-a7a9-63e49ff841b7",
   "metadata": {},
   "source": [
    "#the course has the max number of subscriberes \n",
    "the location of the course \n"
   ]
  },
  {
   "cell_type": "code",
   "execution_count": 16,
   "id": "b7aa4e99-ba4c-4170-9a83-18fd44972ad1",
   "metadata": {},
   "outputs": [
    {
     "data": {
      "text/plain": [
       "268923"
      ]
     },
     "execution_count": 16,
     "metadata": {},
     "output_type": "execute_result"
    }
   ],
   "source": [
    "df['num_subscribers'].max()"
   ]
  },
  {
   "cell_type": "code",
   "execution_count": 17,
   "id": "a1d98b3b-c492-4222-bf23-ef992709618d",
   "metadata": {},
   "outputs": [
    {
     "data": {
      "text/plain": [
       "2832"
      ]
     },
     "execution_count": 17,
     "metadata": {},
     "output_type": "execute_result"
    }
   ],
   "source": [
    "df['num_subscribers'].idxmax()"
   ]
  },
  {
   "cell_type": "code",
   "execution_count": 18,
   "id": "b5a422a5-0806-4f81-882f-bb15cb6a8eb4",
   "metadata": {},
   "outputs": [
    {
     "data": {
      "text/plain": [
       "Unnamed: 0                                                          2832\n",
       "course_id                                                          41295\n",
       "course_title                        Learn HTML5 Programming From Scratch\n",
       "url                    https://www.udemy.com/learn-html5-programming-...\n",
       "is_paid                                                            False\n",
       "price                                                               Free\n",
       "num_subscribers                                                   268923\n",
       "num_reviews                                                         8629\n",
       "num_lectures                                                          45\n",
       "level                                                         All Levels\n",
       "content_duration                                              10.5 hours\n",
       "published_timestamp                                 2013-02-14T07:03:41Z\n",
       "subject                                                  Web Development\n",
       "clean_course_title                       Learn HTML5 Programming Scratch\n",
       "Name: 2832, dtype: object"
      ]
     },
     "execution_count": 18,
     "metadata": {},
     "output_type": "execute_result"
    }
   ],
   "source": [
    "df.iloc[2832]"
   ]
  },
  {
   "cell_type": "code",
   "execution_count": 19,
   "id": "5cce3ec8-a589-40bb-9568-2351acf8630f",
   "metadata": {},
   "outputs": [
    {
     "data": {
      "text/plain": [
       "array(['All Levels', 'Intermediate Level', 'Beginner Level',\n",
       "       'Expert Level', '52'], dtype=object)"
      ]
     },
     "execution_count": 19,
     "metadata": {},
     "output_type": "execute_result"
    }
   ],
   "source": [
    "df['level'].unique()"
   ]
  },
  {
   "cell_type": "code",
   "execution_count": 20,
   "id": "6db617d7-3154-40af-95e2-d117eab8d5e9",
   "metadata": {},
   "outputs": [
    {
     "data": {
      "text/plain": [
       "level\n",
       "All Levels            1932\n",
       "Beginner Level        1271\n",
       "Intermediate Level     421\n",
       "Expert Level            58\n",
       "52                       1\n",
       "Name: count, dtype: int64"
      ]
     },
     "execution_count": 20,
     "metadata": {},
     "output_type": "execute_result"
    }
   ],
   "source": [
    "df['level'].value_counts()"
   ]
  },
  {
   "cell_type": "code",
   "execution_count": 21,
   "id": "823ee9c1-eb63-4ecf-a9f1-9c69fd1fe014",
   "metadata": {},
   "outputs": [
    {
     "data": {
      "image/png": "[encoded data removed]",
      "text/plain": [
       "<Figure size 640x480 with 1 Axes>"
      ]
     },
     "metadata": {},
     "output_type": "display_data"
    }
   ],
   "source": [
    "df['level'].value_counts().plot(kind='bar')\n",
    "plt.xticks(rotation=45)\n",
    "plt.show()\n"
   ]
  },
  {
   "cell_type": "code",
   "execution_count": 22,
   "id": "1ad9bf12-b61a-4b69-88fa-0b923da33cc1",
   "metadata": {},
   "outputs": [
    {
     "data": {
      "text/plain": [
       "level\n",
       "52                         30\n",
       "All Levels            6916112\n",
       "Beginner Level        4052843\n",
       "Expert Level            50196\n",
       "Intermediate Level     742005\n",
       "Name: num_subscribers, dtype: int64"
      ]
     },
     "execution_count": 22,
     "metadata": {},
     "output_type": "execute_result"
    }
   ],
   "source": [
    "df.groupby('level')['num_subscribers'].sum()"
   ]
  },
  {
   "cell_type": "code",
   "execution_count": 23,
   "id": "20812f36-07bc-4c8e-ad99-f48928d96aed",
   "metadata": {},
   "outputs": [
    {
     "data": {
      "text/plain": [
       "Index(['Unnamed: 0', 'course_id', 'course_title', 'url', 'is_paid', 'price',\n",
       "       'num_subscribers', 'num_reviews', 'num_lectures', 'level',\n",
       "       'content_duration', 'published_timestamp', 'subject',\n",
       "       'clean_course_title'],\n",
       "      dtype='object')"
      ]
     },
     "execution_count": 23,
     "metadata": {},
     "output_type": "execute_result"
    }
   ],
   "source": [
    "df.columns"
   ]
  },
  {
   "cell_type": "code",
   "execution_count": 24,
   "id": "ea1120a9-f103-4fcd-8672-8d41e86286cc",
   "metadata": {},
   "outputs": [
    {
     "data": {
      "text/plain": [
       "subject              level             \n",
       "Business Finance     All Levels            699\n",
       "                     Beginner Level        341\n",
       "                     Intermediate Level    128\n",
       "                     Expert Level           31\n",
       "Graphic Design       All Levels            298\n",
       "                     Beginner Level        243\n",
       "                     Intermediate Level     57\n",
       "                     Expert Level            5\n",
       "Musical Instruments  Beginner Level        296\n",
       "                     All Levels            276\n",
       "                     Intermediate Level    101\n",
       "                     Expert Level            7\n",
       "                     52                      1\n",
       "Web Development      All Levels            659\n",
       "                     Beginner Level        391\n",
       "                     Intermediate Level    135\n",
       "                     Expert Level           15\n",
       "Name: count, dtype: int64"
      ]
     },
     "execution_count": 24,
     "metadata": {},
     "output_type": "execute_result"
    }
   ],
   "source": [
    "df.groupby('subject')['level'].value_counts()"
   ]
  },
  {
   "cell_type": "code",
   "execution_count": 25,
   "id": "abf5e15a-b2e1-4f82-a0c7-50b01f77c29e",
   "metadata": {},
   "outputs": [
    {
     "data": {
      "image/png": "[encoded data removed]",
      "text/plain": [
       "<Figure size 640x480 with 1 Axes>"
      ]
     },
     "metadata": {},
     "output_type": "display_data"
    }
   ],
   "source": [
    "df.groupby('subject')['level'].value_counts().plot(kind='bar')\n",
    "plt.show()"
   ]
  },
  {
   "cell_type": "code",
   "execution_count": 26,
   "id": "c3650733-a214-4465-95a0-a353bfd16a99",
   "metadata": {},
   "outputs": [
    {
     "name": "stderr",
     "output_type": "stream",
     "text": [
      "C:\\Users\\Data-DCS\\AppData\\Local\\Temp\\ipykernel_14360\\2339172591.py:2: FutureWarning: \n",
      "\n",
      "The `ci` parameter is deprecated. Use `errorbar=None` for the same effect.\n",
      "\n",
      "  sns.barplot(x='level',y='num_subscribers',data=df,hue='subject',ci=None)\n"
     ]
    },
    {
     "data": {
      "image/png": "[encoded data removed]",
      "text/plain": [
       "<Figure size 2000x1500 with 1 Axes>"
      ]
     },
     "metadata": {},
     "output_type": "display_data"
    }
   ],
   "source": [
    "\n",
    "plt.figure(figsize=(20,15))\n",
    "sns.barplot(x='level',y='num_subscribers',data=df,hue='subject',ci=None)\n",
    "plt.show()"
   ]
  },
  {
   "cell_type": "code",
   "execution_count": 27,
   "id": "e563bbad-2921-40cb-b770-6b209d4c42c8",
   "metadata": {},
   "outputs": [],
   "source": [
    "#create of function to can group column with column without complete code .\n",
    "#put title for bar char python formatting (place holder)\n",
    "def function(x):\n",
    "    plt.figure(figsize=(20,10))\n",
    "    sns.barplot(x='level',y=x , data =df , hue='subject')\n",
    "    plt.title('plot of {} per level per subject' .format(x))\n",
    "    plt.show()\n",
    "    #pie chart \n",
    "    plt.figure(figsize=(5,5))\n",
    "    df.groupby('level')[x].sum().plot(kind='pie')\n",
    "    plt.title('plot of {} per level' .format(x))\n",
    "    plt.show()\n",
    "\n",
    "\n",
    "\n",
    "     "
   ]
  },
  {
   "cell_type": "code",
   "execution_count": 28,
   "id": "f5dd442d-c23a-4754-aa3a-d95a58c262a4",
   "metadata": {},
   "outputs": [
    {
     "data": {
      "image/png": "[encoded data removed]",
      "text/plain": [
       "<Figure size 2000x1000 with 1 Axes>"
      ]
     },
     "metadata": {},
     "output_type": "display_data"
    },
    {
     "data": {
      "image/png": "[encoded data removed]",
      "text/plain": [
       "<Figure size 500x500 with 1 Axes>"
      ]
     },
     "metadata": {},
     "output_type": "display_data"
    }
   ],
   "source": [
    "function('num_reviews')\n",
    "plt.show()"
   ]
  },
  {
   "cell_type": "code",
   "execution_count": 29,
   "id": "67489a93-0253-4d7c-8f2f-827644c05b79",
   "metadata": {},
   "outputs": [
    {
     "data": {
      "text/plain": [
       "dtype('O')"
      ]
     },
     "execution_count": 29,
     "metadata": {},
     "output_type": "execute_result"
    }
   ],
   "source": [
    "df['price'].dtype  #object dtype means that the data mix of two different data types "
   ]
  },
  {
   "cell_type": "code",
   "execution_count": 30,
   "id": "2c3a128a-e121-49c5-858e-e681f9284045",
   "metadata": {},
   "outputs": [
    {
     "data": {
      "text/plain": [
       "array(['200', '75', '45', '95', '150', '65', '195', '30', '20', '50',\n",
       "       '175', '140', '115', '190', '125', '60', '145', '105', '155',\n",
       "       '185', '180', '120', '25', '160', '40', 'Free', '100', '90', '35',\n",
       "       '80', '70', '55', '165', '130', '85', '170', '110', '135', 'TRUE'],\n",
       "      dtype=object)"
      ]
     },
     "execution_count": 30,
     "metadata": {},
     "output_type": "execute_result"
    }
   ],
   "source": [
    "df['price'].unique()"
   ]
  },
  {
   "cell_type": "code",
   "execution_count": 31,
   "id": "c5f2917c-ad2b-4877-b2b9-4398d368c026",
   "metadata": {},
   "outputs": [],
   "source": [
    "df['price']=df['price'].str.replace('Free','0')\n",
    "df['price']=df['price'].str.replace('TRUE','0')"
   ]
  },
  {
   "cell_type": "code",
   "execution_count": 32,
   "id": "6f00f428-9fe1-4cdf-b2ed-304449952dfd",
   "metadata": {},
   "outputs": [
    {
     "data": {
      "text/plain": [
       "array(['200', '75', '45', '95', '150', '65', '195', '30', '20', '50',\n",
       "       '175', '140', '115', '190', '125', '60', '145', '105', '155',\n",
       "       '185', '180', '120', '25', '160', '40', '0', '100', '90', '35',\n",
       "       '80', '70', '55', '165', '130', '85', '170', '110', '135'],\n",
       "      dtype=object)"
      ]
     },
     "execution_count": 32,
     "metadata": {},
     "output_type": "execute_result"
    }
   ],
   "source": [
    "df['price'].unique()"
   ]
  },
  {
   "cell_type": "code",
   "execution_count": 33,
   "id": "b92acc6c-6edc-48d7-8e5e-8bc4e18344e2",
   "metadata": {},
   "outputs": [],
   "source": [
    "df['price']= df['price'].astype(float)         #convert data type from object to float"
   ]
  },
  {
   "cell_type": "code",
   "execution_count": 34,
   "id": "327a83c7-71df-4f94-9628-cb79f80443af",
   "metadata": {},
   "outputs": [
    {
     "data": {
      "text/plain": [
       "65.99239750203638"
      ]
     },
     "execution_count": 34,
     "metadata": {},
     "output_type": "execute_result"
    }
   ],
   "source": [
    "df['price'].mean()"
   ]
  },
  {
   "cell_type": "code",
   "execution_count": 35,
   "id": "0ca02f6b-4b73-47d1-bac7-8110f2fc370c",
   "metadata": {},
   "outputs": [
    {
     "data": {
      "text/plain": [
       "200.0"
      ]
     },
     "execution_count": 35,
     "metadata": {},
     "output_type": "execute_result"
    }
   ],
   "source": [
    "df['price'].max()"
   ]
  },
  {
   "cell_type": "code",
   "execution_count": 36,
   "id": "5d511aa0-fa8a-4c2e-b8bc-5a117d7baebc",
   "metadata": {},
   "outputs": [
    {
     "data": {
      "text/plain": [
       "0.0"
      ]
     },
     "execution_count": 36,
     "metadata": {},
     "output_type": "execute_result"
    }
   ],
   "source": [
    "df['price'].min()"
   ]
  },
  {
   "cell_type": "code",
   "execution_count": 37,
   "id": "54c1d6ad-43ad-42e7-879d-0750a5b01cbc",
   "metadata": {},
   "outputs": [
    {
     "data": {
      "text/plain": [
       "0"
      ]
     },
     "execution_count": 37,
     "metadata": {},
     "output_type": "execute_result"
    }
   ],
   "source": [
    "df['price'].idxmax()    #to get the location of the maximum value "
   ]
  },
  {
   "cell_type": "code",
   "execution_count": 38,
   "id": "b2571625-d6e8-4338-9653-afadd82fbd1c",
   "metadata": {},
   "outputs": [
    {
     "data": {
      "text/plain": [
       "Unnamed: 0                                                             0\n",
       "course_id                                                        1070968\n",
       "course_title                          Ultimate Investment Banking Course\n",
       "url                    https://www.udemy.com/ultimate-investment-bank...\n",
       "is_paid                                                             True\n",
       "price                                                              200.0\n",
       "num_subscribers                                                     2147\n",
       "num_reviews                                                           23\n",
       "num_lectures                                                          51\n",
       "level                                                         All Levels\n",
       "content_duration                                               1.5 hours\n",
       "published_timestamp                                 2017-01-18T20:58:58Z\n",
       "subject                                                 Business Finance\n",
       "clean_course_title                    Ultimate Investment Banking Course\n",
       "Name: 0, dtype: object"
      ]
     },
     "execution_count": 38,
     "metadata": {},
     "output_type": "execute_result"
    }
   ],
   "source": [
    "df.iloc[0]"
   ]
  },
  {
   "cell_type": "code",
   "execution_count": 39,
   "id": "245dd81f-53fd-4d7b-8873-5b08bf82a909",
   "metadata": {},
   "outputs": [],
   "source": [
    "#profit = price*num of subscribtion \n",
    "#firstly we will add column profit \n",
    "\n",
    "df['profit']=df['price']*df['num_subscribers']"
   ]
  },
  {
   "cell_type": "code",
   "execution_count": 40,
   "id": "7633dac5-5fb1-45f2-86ee-85f6d64fd0ba",
   "metadata": {},
   "outputs": [
    {
     "data": {
      "text/plain": [
       "[429400.0,\n",
       " 209400.0,\n",
       " 97830.0,\n",
       " 232845.0,\n",
       " 255200.0,\n",
       " 1383150.0,\n",
       " 100100.0,\n",
       " 277115.0,\n",
       " 1008540.0,\n",
       " 165400.0,\n",
       " 856800.0,\n",
       " 276000.0,\n",
       " 108210.0,\n",
       " 791895.0,\n",
       " 58800.0,\n",
       " 170700.0,\n",
       " 98380.0,\n",
       " 533200.0,\n",
       " 267700.0,\n",
       " 769025.0,\n",
       " 161800.0,\n",
       " 459000.0,\n",
       " 761175.0,\n",
       " 95800.0,\n",
       " 112815.0,\n",
       " 867900.0,\n",
       " 1066800.0,\n",
       " 700875.0,\n",
       " 431550.0,\n",
       " 143640.0,\n",
       " 110675.0,\n",
       " 368600.0,\n",
       " 395865.0,\n",
       " 206000.0,\n",
       " 208200.0,\n",
       " 1537380.0,\n",
       " 3295500.0,\n",
       " 2288200.0,\n",
       " 4340115.0,\n",
       " 1672125.0,\n",
       " 4773795.0,\n",
       " 743145.0,\n",
       " 973245.0,\n",
       " 861235.0,\n",
       " 4039000.0,\n",
       " 1506300.0,\n",
       " 34865.0,\n",
       " 2120600.0,\n",
       " 227430.0,\n",
       " 433950.0,\n",
       " 316000.0,\n",
       " 1007475.0,\n",
       " 374500.0,\n",
       " 186570.0,\n",
       " 222600.0,\n",
       " 498840.0,\n",
       " 1114400.0,\n",
       " 207785.0,\n",
       " 18720.0,\n",
       " 131600.0,\n",
       " 852705.0,\n",
       " 251220.0,\n",
       " 1463975.0,\n",
       " 651000.0,\n",
       " 1469085.0,\n",
       " 252000.0,\n",
       " 1818000.0,\n",
       " 631250.0,\n",
       " 462000.0,\n",
       " 1022680.0,\n",
       " 806375.0,\n",
       " 1177430.0,\n",
       " 358600.0,\n",
       " 64460.0,\n",
       " 983100.0,\n",
       " 297400.0,\n",
       " 590200.0,\n",
       " 323640.0,\n",
       " 596850.0,\n",
       " 79750.0,\n",
       " 281200.0,\n",
       " 680320.0,\n",
       " 239160.0,\n",
       " 735585.0,\n",
       " 106700.0,\n",
       " 242800.0,\n",
       " 77400.0,\n",
       " 429200.0,\n",
       " 94380.0,\n",
       " 211400.0,\n",
       " 35080.0,\n",
       " 24780.0,\n",
       " 236835.0,\n",
       " 30000.0,\n",
       " 390300.0,\n",
       " 29970.0,\n",
       " 80000.0,\n",
       " 0.0,\n",
       " 27220.0,\n",
       " 6100.0,\n",
       " 113475.0,\n",
       " 27480.0,\n",
       " 84120.0,\n",
       " 29600.0,\n",
       " 62900.0,\n",
       " 0.0,\n",
       " 98550.0,\n",
       " 167400.0,\n",
       " 0.0,\n",
       " 335985.0,\n",
       " 0.0,\n",
       " 41200.0,\n",
       " 347700.0,\n",
       " 204535.0,\n",
       " 0.0,\n",
       " 63540.0,\n",
       " 230250.0,\n",
       " 20540.0,\n",
       " 7675.0,\n",
       " 314400.0,\n",
       " 65750.0,\n",
       " 0.0,\n",
       " 52800.0,\n",
       " 398160.0,\n",
       " 147300.0,\n",
       " 27100.0,\n",
       " 94275.0,\n",
       " 628600.0,\n",
       " 39020.0,\n",
       " 361980.0,\n",
       " 0.0,\n",
       " 45660.0,\n",
       " 41335.0,\n",
       " 92600.0,\n",
       " 466100.0,\n",
       " 49450.0,\n",
       " 116820.0,\n",
       " 217400.0,\n",
       " 122200.0,\n",
       " 115320.0,\n",
       " 1352250.0,\n",
       " 13220.0,\n",
       " 113085.0,\n",
       " 121000.0,\n",
       " 528450.0,\n",
       " 0.0,\n",
       " 144400.0,\n",
       " 174000.0,\n",
       " 287400.0,\n",
       " 90600.0,\n",
       " 48740.0,\n",
       " 151710.0,\n",
       " 578740.0,\n",
       " 430350.0,\n",
       " 418020.0,\n",
       " 14540.0,\n",
       " 31200.0,\n",
       " 209400.0,\n",
       " 130625.0,\n",
       " 610000.0,\n",
       " 597600.0,\n",
       " 91805.0,\n",
       " 384800.0,\n",
       " 760800.0,\n",
       " 495960.0,\n",
       " 276900.0,\n",
       " 140000.0,\n",
       " 133600.0,\n",
       " 102150.0,\n",
       " 206600.0,\n",
       " 16640.0,\n",
       " 132015.0,\n",
       " 62500.0,\n",
       " 54050.0,\n",
       " 329000.0,\n",
       " 401760.0,\n",
       " 187800.0,\n",
       " 423000.0,\n",
       " 100350.0,\n",
       " 102650.0,\n",
       " 143440.0,\n",
       " 0.0,\n",
       " 104200.0,\n",
       " 44440.0,\n",
       " 54850.0,\n",
       " 501200.0,\n",
       " 117000.0,\n",
       " 202710.0,\n",
       " 213720.0,\n",
       " 340600.0,\n",
       " 65070.0,\n",
       " 54720.0,\n",
       " 400000.0,\n",
       " 63975.0,\n",
       " 61880.0,\n",
       " 0.0,\n",
       " 82340.0,\n",
       " 27380.0,\n",
       " 183600.0,\n",
       " 77400.0,\n",
       " 179400.0,\n",
       " 58995.0,\n",
       " 80280.0,\n",
       " 31780.0,\n",
       " 23780.0,\n",
       " 35050.0,\n",
       " 55250.0,\n",
       " 6150.0,\n",
       " 0.0,\n",
       " 17700.0,\n",
       " 43620.0,\n",
       " 0.0,\n",
       " 3240.0,\n",
       " 25080.0,\n",
       " 29250.0,\n",
       " 0.0,\n",
       " 222600.0,\n",
       " 70205.0,\n",
       " 24020.0,\n",
       " 123700.0,\n",
       " 98800.0,\n",
       " 150100.0,\n",
       " 24680.0,\n",
       " 44700.0,\n",
       " 45860.0,\n",
       " 218800.0,\n",
       " 28980.0,\n",
       " 65020.0,\n",
       " 36420.0,\n",
       " 91350.0,\n",
       " 22640.0,\n",
       " 13120.0,\n",
       " 66780.0,\n",
       " 254200.0,\n",
       " 31480.0,\n",
       " 27860.0,\n",
       " 20580.0,\n",
       " 25290.0,\n",
       " 164350.0,\n",
       " 59100.0,\n",
       " 75400.0,\n",
       " 164350.0,\n",
       " 63000.0,\n",
       " 82745.0,\n",
       " 78300.0,\n",
       " 313635.0,\n",
       " 116760.0,\n",
       " 87080.0,\n",
       " 62020.0,\n",
       " 37000.0,\n",
       " 0.0,\n",
       " 0.0,\n",
       " 600.0,\n",
       " 260.0,\n",
       " 400.0,\n",
       " 0.0,\n",
       " 1000.0,\n",
       " 245.0,\n",
       " 4340.0,\n",
       " 1650.0,\n",
       " 6550.0,\n",
       " 150.0,\n",
       " 5800.0,\n",
       " 2700.0,\n",
       " 136800.0,\n",
       " 39280.0,\n",
       " 206600.0,\n",
       " 86735.0,\n",
       " 418400.0,\n",
       " 212800.0,\n",
       " 138030.0,\n",
       " 73825.0,\n",
       " 136375.0,\n",
       " 51065.0,\n",
       " 145650.0,\n",
       " 201700.0,\n",
       " 11400.0,\n",
       " 910.0,\n",
       " 350.0,\n",
       " 2450.0,\n",
       " 220.0,\n",
       " 180.0,\n",
       " 1820.0,\n",
       " 880.0,\n",
       " 13250.0,\n",
       " 0.0,\n",
       " 2700.0,\n",
       " 620.0,\n",
       " 13020.0,\n",
       " 36660.0,\n",
       " 0.0,\n",
       " 58400.0,\n",
       " 0.0,\n",
       " 0.0,\n",
       " 27240.0,\n",
       " 19500.0,\n",
       " 26220.0,\n",
       " 14050.0,\n",
       " 69240.0,\n",
       " 0.0,\n",
       " 136800.0,\n",
       " 0.0,\n",
       " 9500.0,\n",
       " 0.0,\n",
       " 39725.0,\n",
       " 42020.0,\n",
       " 209600.0,\n",
       " 34800.0,\n",
       " 34980.0,\n",
       " 94960.0,\n",
       " 88410.0,\n",
       " 5750.0,\n",
       " 860.0,\n",
       " 4125.0,\n",
       " 1620.0,\n",
       " 560.0,\n",
       " 1410.0,\n",
       " 26800.0,\n",
       " 3060.0,\n",
       " 3525.0,\n",
       " 1050.0,\n",
       " 2400.0,\n",
       " 1360.0,\n",
       " 42200.0,\n",
       " 40900.0,\n",
       " 23360.0,\n",
       " 58550.0,\n",
       " 45360.0,\n",
       " 48350.0,\n",
       " 237000.0,\n",
       " 126200.0,\n",
       " 58080.0,\n",
       " 203760.0,\n",
       " 5700.0,\n",
       " 40800.0,\n",
       " 46440.0,\n",
       " 20450.0,\n",
       " 46760.0,\n",
       " 12450.0,\n",
       " 13800.0,\n",
       " 201000.0,\n",
       " 26030.0,\n",
       " 0.0,\n",
       " 38460.0,\n",
       " 44800.0,\n",
       " 14420.0,\n",
       " 3060.0,\n",
       " 248820.0,\n",
       " 0.0,\n",
       " 0.0,\n",
       " 0.0,\n",
       " 50355.0,\n",
       " 259100.0,\n",
       " 20920.0,\n",
       " 44780.0,\n",
       " 376400.0,\n",
       " 0.0,\n",
       " 0.0,\n",
       " 550080.0,\n",
       " 97725.0,\n",
       " 73100.0,\n",
       " 70250.0,\n",
       " 0.0,\n",
       " 168720.0,\n",
       " 65720.0,\n",
       " 80100.0,\n",
       " 137895.0,\n",
       " 38340.0,\n",
       " 59200.0,\n",
       " 22300.0,\n",
       " 21720.0,\n",
       " 74600.0,\n",
       " 76950.0,\n",
       " 210420.0,\n",
       " 68060.0,\n",
       " 352125.0,\n",
       " 0.0,\n",
       " 134600.0,\n",
       " 127480.0,\n",
       " 334225.0,\n",
       " 58900.0,\n",
       " 1320.0,\n",
       " 112050.0,\n",
       " 543000.0,\n",
       " 301200.0,\n",
       " 329550.0,\n",
       " 67600.0,\n",
       " 26900.0,\n",
       " 55380.0,\n",
       " 38275.0,\n",
       " 142000.0,\n",
       " 109350.0,\n",
       " 32180.0,\n",
       " 57900.0,\n",
       " 204600.0,\n",
       " 298200.0,\n",
       " 210600.0,\n",
       " 89940.0,\n",
       " 380640.0,\n",
       " 198600.0,\n",
       " 310140.0,\n",
       " 28460.0,\n",
       " 142200.0,\n",
       " 28350.0,\n",
       " 217000.0,\n",
       " 1431800.0,\n",
       " 1151700.0,\n",
       " 50.0,\n",
       " 200.0,\n",
       " 2050.0,\n",
       " 1600.0,\n",
       " 2150.0,\n",
       " 690.0,\n",
       " 180.0,\n",
       " 500.0,\n",
       " 175.0,\n",
       " 540.0,\n",
       " 200.0,\n",
       " 1450.0,\n",
       " 680.0,\n",
       " 3300.0,\n",
       " 2520.0,\n",
       " 1920.0,\n",
       " 9600.0,\n",
       " 540.0,\n",
       " 3340.0,\n",
       " 2620.0,\n",
       " 0.0,\n",
       " 740.0,\n",
       " 760.0,\n",
       " 1290.0,\n",
       " 22530.0,\n",
       " 1715.0,\n",
       " 900.0,\n",
       " 0.0,\n",
       " 0.0,\n",
       " 3720.0,\n",
       " 162200.0,\n",
       " 47800.0,\n",
       " 23940.0,\n",
       " 2470.0,\n",
       " 3185.0,\n",
       " 900.0,\n",
       " 44070.0,\n",
       " 3120.0,\n",
       " 17355.0,\n",
       " 53400.0,\n",
       " 0.0,\n",
       " 5300.0,\n",
       " 40920.0,\n",
       " 12100.0,\n",
       " 23600.0,\n",
       " 19400.0,\n",
       " 7840.0,\n",
       " 47200.0,\n",
       " 0.0,\n",
       " 0.0,\n",
       " 0.0,\n",
       " 0.0,\n",
       " 0.0,\n",
       " 0.0,\n",
       " 0.0,\n",
       " 0.0,\n",
       " 0.0,\n",
       " 0.0,\n",
       " 0.0,\n",
       " 0.0,\n",
       " 24750.0,\n",
       " 20625.0,\n",
       " 0.0,\n",
       " 5660.0,\n",
       " 12920.0,\n",
       " 4600.0,\n",
       " 37565.0,\n",
       " 30900.0,\n",
       " 4700.0,\n",
       " 18220.0,\n",
       " 10240.0,\n",
       " 38450.0,\n",
       " 28690.0,\n",
       " 5960.0,\n",
       " 3960.0,\n",
       " 1650.0,\n",
       " 650.0,\n",
       " 1580.0,\n",
       " 2780.0,\n",
       " 0.0,\n",
       " 2125.0,\n",
       " 2250.0,\n",
       " 1650.0,\n",
       " 6480.0,\n",
       " 299600.0,\n",
       " 46340.0,\n",
       " 0.0,\n",
       " 0.0,\n",
       " 114190.0,\n",
       " 0.0,\n",
       " 43780.0,\n",
       " 71115.0,\n",
       " 239800.0,\n",
       " 142125.0,\n",
       " 294840.0,\n",
       " 361200.0,\n",
       " 13360.0,\n",
       " 0.0,\n",
       " 16560.0,\n",
       " 4440.0,\n",
       " 3705.0,\n",
       " 119535.0,\n",
       " 5415.0,\n",
       " 4920.0,\n",
       " 2905.0,\n",
       " 12090.0,\n",
       " 6200.0,\n",
       " 38535.0,\n",
       " 60.0,\n",
       " 90.0,\n",
       " 40.0,\n",
       " 60.0,\n",
       " 20.0,\n",
       " 30.0,\n",
       " 40.0,\n",
       " 20.0,\n",
       " 80.0,\n",
       " 105.0,\n",
       " 20.0,\n",
       " 0.0,\n",
       " 14620.0,\n",
       " 13200.0,\n",
       " 4845.0,\n",
       " 91260.0,\n",
       " 900.0,\n",
       " 56250.0,\n",
       " 4000.0,\n",
       " 30400.0,\n",
       " 2220.0,\n",
       " 3880.0,\n",
       " 29600.0,\n",
       " 60610.0,\n",
       " 1280.0,\n",
       " 8800.0,\n",
       " 40700.0,\n",
       " 10550.0,\n",
       " 15360.0,\n",
       " 580.0,\n",
       " 7800.0,\n",
       " 0.0,\n",
       " 18800.0,\n",
       " 16050.0,\n",
       " 20300.0,\n",
       " 19700.0,\n",
       " 32850.0,\n",
       " 1120.0,\n",
       " 11310.0,\n",
       " 52350.0,\n",
       " 9130.0,\n",
       " 12100.0,\n",
       " 1900.0,\n",
       " 4600.0,\n",
       " 8680.0,\n",
       " 3120.0,\n",
       " 1050.0,\n",
       " 4000.0,\n",
       " 368790.0,\n",
       " 266565.0,\n",
       " 75950.0,\n",
       " 81000.0,\n",
       " 121300.0,\n",
       " 21840.0,\n",
       " 101980.0,\n",
       " 173800.0,\n",
       " 3540.0,\n",
       " 0.0,\n",
       " 165395.0,\n",
       " 0.0,\n",
       " 80.0,\n",
       " 50.0,\n",
       " 100.0,\n",
       " 380.0,\n",
       " 400.0,\n",
       " 400.0,\n",
       " 550.0,\n",
       " 360.0,\n",
       " 320.0,\n",
       " 120.0,\n",
       " 220.0,\n",
       " 20.0,\n",
       " 4200.0,\n",
       " 80.0,\n",
       " 54600.0,\n",
       " 4740.0,\n",
       " 0.0,\n",
       " 4300.0,\n",
       " 8160.0,\n",
       " 11400.0,\n",
       " 4500.0,\n",
       " 740.0,\n",
       " 7200.0,\n",
       " 21800.0,\n",
       " 1000.0,\n",
       " 3700.0,\n",
       " 5920.0,\n",
       " 5200.0,\n",
       " 28405.0,\n",
       " 280.0,\n",
       " 1300.0,\n",
       " 2525.0,\n",
       " 3680.0,\n",
       " 1520.0,\n",
       " 280.0,\n",
       " 810.0,\n",
       " 420.0,\n",
       " 360.0,\n",
       " 525.0,\n",
       " 980.0,\n",
       " 3360.0,\n",
       " 800.0,\n",
       " 40.0,\n",
       " 67200.0,\n",
       " 400.0,\n",
       " 560.0,\n",
       " 1650.0,\n",
       " 220.0,\n",
       " 70200.0,\n",
       " 23780.0,\n",
       " 0.0,\n",
       " 20000.0,\n",
       " 0.0,\n",
       " 29600.0,\n",
       " 116090.0,\n",
       " 76600.0,\n",
       " 0.0,\n",
       " 68600.0,\n",
       " 32400.0,\n",
       " 101550.0,\n",
       " 210.0,\n",
       " 800.0,\n",
       " 420.0,\n",
       " 725.0,\n",
       " 1000.0,\n",
       " 200.0,\n",
       " 725.0,\n",
       " 180.0,\n",
       " 720.0,\n",
       " 2800.0,\n",
       " 2200.0,\n",
       " 140.0,\n",
       " 171970.0,\n",
       " 18960.0,\n",
       " 61850.0,\n",
       " 102600.0,\n",
       " 389785.0,\n",
       " 67005.0,\n",
       " 24615.0,\n",
       " 33535.0,\n",
       " 48165.0,\n",
       " 215800.0,\n",
       " 660060.0,\n",
       " 111100.0,\n",
       " 900.0,\n",
       " 9000.0,\n",
       " 650.0,\n",
       " 7460.0,\n",
       " 15300.0,\n",
       " 700.0,\n",
       " 1020.0,\n",
       " 260.0,\n",
       " 0.0,\n",
       " 13880.0,\n",
       " 8220.0,\n",
       " 540.0,\n",
       " 71800.0,\n",
       " 0.0,\n",
       " 40950.0,\n",
       " 9800.0,\n",
       " 38095.0,\n",
       " 14020.0,\n",
       " 5130.0,\n",
       " 10250.0,\n",
       " 2170.0,\n",
       " 2280.0,\n",
       " 114405.0,\n",
       " 17840.0,\n",
       " 2550.0,\n",
       " 320.0,\n",
       " 2340.0,\n",
       " 2940.0,\n",
       " 140.0,\n",
       " 4940.0,\n",
       " 5005.0,\n",
       " 111780.0,\n",
       " 300.0,\n",
       " 200.0,\n",
       " 0.0,\n",
       " 4540.0,\n",
       " 560000.0,\n",
       " 26580.0,\n",
       " 0.0,\n",
       " 131750.0,\n",
       " 131250.0,\n",
       " 319200.0,\n",
       " 171250.0,\n",
       " 255360.0,\n",
       " 87600.0,\n",
       " 327600.0,\n",
       " 51150.0,\n",
       " 339800.0,\n",
       " 53550.0,\n",
       " 20740.0,\n",
       " 21185.0,\n",
       " 26120.0,\n",
       " 11500.0,\n",
       " 45620.0,\n",
       " 235100.0,\n",
       " 9150.0,\n",
       " 13025.0,\n",
       " 7560.0,\n",
       " 220200.0,\n",
       " 11150.0,\n",
       " 2700.0,\n",
       " 460.0,\n",
       " 4480.0,\n",
       " 0.0,\n",
       " 7600.0,\n",
       " 8010.0,\n",
       " 7750.0,\n",
       " 4350.0,\n",
       " 0.0,\n",
       " 7700.0,\n",
       " 0.0,\n",
       " 15510.0,\n",
       " 92330.0,\n",
       " 72850.0,\n",
       " 121000.0,\n",
       " 960.0,\n",
       " 195850.0,\n",
       " 22440.0,\n",
       " 83160.0,\n",
       " 50080.0,\n",
       " 102160.0,\n",
       " 134145.0,\n",
       " 122300.0,\n",
       " 387500.0,\n",
       " 50760.0,\n",
       " 0.0,\n",
       " 4500.0,\n",
       " 880.0,\n",
       " 6160.0,\n",
       " 2750.0,\n",
       " 0.0,\n",
       " 8240.0,\n",
       " 360.0,\n",
       " 17200.0,\n",
       " 11760.0,\n",
       " 810.0,\n",
       " 73125.0,\n",
       " 8930.0,\n",
       " 0.0,\n",
       " 0.0,\n",
       " 3100.0,\n",
       " 86600.0,\n",
       " 67440.0,\n",
       " 43700.0,\n",
       " 50400.0,\n",
       " 12800.0,\n",
       " 234600.0,\n",
       " 0.0,\n",
       " 2450.0,\n",
       " 4960.0,\n",
       " 2100.0,\n",
       " 2340.0,\n",
       " 0.0,\n",
       " 140.0,\n",
       " 600.0,\n",
       " 8645.0,\n",
       " 1120.0,\n",
       " 4150.0,\n",
       " 52955.0,\n",
       " 0.0,\n",
       " 0.0,\n",
       " 0.0,\n",
       " 0.0,\n",
       " 50.0,\n",
       " 0.0,\n",
       " 0.0,\n",
       " 0.0,\n",
       " 0.0,\n",
       " 0.0,\n",
       " 0.0,\n",
       " 0.0,\n",
       " 0.0,\n",
       " 44220.0,\n",
       " 110800.0,\n",
       " 117015.0,\n",
       " 46740.0,\n",
       " 35540.0,\n",
       " 42050.0,\n",
       " 11200.0,\n",
       " 381800.0,\n",
       " 46500.0,\n",
       " 25100.0,\n",
       " 23860.0,\n",
       " 183260.0,\n",
       " 74760.0,\n",
       " 55200.0,\n",
       " 15700.0,\n",
       " 330140.0,\n",
       " 44250.0,\n",
       " 45200.0,\n",
       " 69150.0,\n",
       " 22800.0,\n",
       " 61020.0,\n",
       " 21480.0,\n",
       " 22000.0,\n",
       " 19560.0,\n",
       " 7200.0,\n",
       " 1480.0,\n",
       " 1560.0,\n",
       " 1000.0,\n",
       " 1755.0,\n",
       " 1850.0,\n",
       " 0.0,\n",
       " 3900.0,\n",
       " 1050.0,\n",
       " 0.0,\n",
       " 350.0,\n",
       " 4200.0,\n",
       " 420150.0,\n",
       " 0.0,\n",
       " 0.0,\n",
       " 11925.0,\n",
       " 66700.0,\n",
       " 0.0,\n",
       " 0.0,\n",
       " 51600.0,\n",
       " 0.0,\n",
       " 47660.0,\n",
       " 0.0,\n",
       " 66250.0,\n",
       " 31020.0,\n",
       " 27250.0,\n",
       " 16575.0,\n",
       " 0.0,\n",
       " 103125.0,\n",
       " 14000.0,\n",
       " 42840.0,\n",
       " 17060.0,\n",
       " 510.0,\n",
       " 19850.0,\n",
       " 14430.0,\n",
       " 25080.0,\n",
       " 5340.0,\n",
       " 760.0,\n",
       " 900.0,\n",
       " 2060.0,\n",
       " 350.0,\n",
       " 9880.0,\n",
       " 6300.0,\n",
       " 10140.0,\n",
       " 4820.0,\n",
       " 11300.0,\n",
       " 1000.0,\n",
       " 5000.0,\n",
       " 4950.0,\n",
       " 3960.0,\n",
       " 35760.0,\n",
       " 10450.0,\n",
       " 0.0,\n",
       " 2835.0,\n",
       " 0.0,\n",
       " 12920.0,\n",
       " 10400.0,\n",
       " 43200.0,\n",
       " 67800.0,\n",
       " 13350.0,\n",
       " 1050.0,\n",
       " 1200.0,\n",
       " 4180.0,\n",
       " 0.0,\n",
       " 1440.0,\n",
       " 500.0,\n",
       " 0.0,\n",
       " 150.0,\n",
       " 20.0,\n",
       " 500.0,\n",
       " 60.0,\n",
       " 680.0,\n",
       " 0.0,\n",
       " 0.0,\n",
       " 0.0,\n",
       " 0.0,\n",
       " 0.0,\n",
       " 0.0,\n",
       " 0.0,\n",
       " 0.0,\n",
       " 0.0,\n",
       " 0.0,\n",
       " 0.0,\n",
       " 0.0,\n",
       " 27540.0,\n",
       " 15960.0,\n",
       " 15600.0,\n",
       " 30180.0,\n",
       " 4240.0,\n",
       " 11550.0,\n",
       " 18000.0,\n",
       " 4590.0,\n",
       " 52750.0,\n",
       " 3140.0,\n",
       " 20600.0,\n",
       " 0.0,\n",
       " 1160.0,\n",
       " 1480.0,\n",
       " 0.0,\n",
       " 540.0,\n",
       " 5700.0,\n",
       " 810.0,\n",
       " 1360.0,\n",
       " 2240.0,\n",
       " 1440.0,\n",
       " 48575.0,\n",
       " 4400.0,\n",
       " 1230.0,\n",
       " 20.0,\n",
       " 480.0,\n",
       " 75.0,\n",
       " 180.0,\n",
       " 70.0,\n",
       " 240.0,\n",
       " 200.0,\n",
       " 240.0,\n",
       " 100.0,\n",
       " 20.0,\n",
       " 190.0,\n",
       " 180.0,\n",
       " 1470.0,\n",
       " 3300.0,\n",
       " 14700.0,\n",
       " 10300.0,\n",
       " 9840.0,\n",
       " 2070.0,\n",
       " 560.0,\n",
       " 1800.0,\n",
       " 260.0,\n",
       " 620.0,\n",
       " 650.0,\n",
       " 0.0,\n",
       " 3400.0,\n",
       " 15940.0,\n",
       " 90540.0,\n",
       " 109250.0,\n",
       " 28060.0,\n",
       " 18320.0,\n",
       " 12540.0,\n",
       " 33600.0,\n",
       " 0.0,\n",
       " 3600.0,\n",
       " 15000.0,\n",
       " 10850.0,\n",
       " 5300.0,\n",
       " 19850.0,\n",
       " 880.0,\n",
       " 1500.0,\n",
       " 1900.0,\n",
       " 5225.0,\n",
       " 9400.0,\n",
       " 11560.0,\n",
       " 7860.0,\n",
       " 2320.0,\n",
       " 0.0,\n",
       " 600.0,\n",
       " 18540.0,\n",
       " 8000.0,\n",
       " 8880.0,\n",
       " 24930.0,\n",
       " 24250.0,\n",
       " 4640.0,\n",
       " 2700.0,\n",
       " 2440.0,\n",
       " 1220.0,\n",
       " 43700.0,\n",
       " 1100.0,\n",
       " 0.0,\n",
       " 5220.0,\n",
       " 4150.0,\n",
       " 7600.0,\n",
       " 3520.0,\n",
       " 280.0,\n",
       " 6540.0,\n",
       " 25080.0,\n",
       " 300.0,\n",
       " 3640.0,\n",
       " 2840.0,\n",
       " 2860.0,\n",
       " 220.0,\n",
       " 25880.0,\n",
       " 3040.0,\n",
       " 42255.0,\n",
       " 31750.0,\n",
       " 39330.0,\n",
       " ...]"
      ]
     },
     "execution_count": 40,
     "metadata": {},
     "output_type": "execute_result"
    }
   ],
   "source": [
    "df['profit'].tolist()         #to view all values "
   ]
  },
  {
   "cell_type": "code",
   "execution_count": 41,
   "id": "7c1537ce-e8b4-4a6e-afa3-22569fce701b",
   "metadata": {},
   "outputs": [
    {
     "data": {
      "text/plain": [
       "884982395.0"
      ]
     },
     "execution_count": 41,
     "metadata": {},
     "output_type": "execute_result"
    }
   ],
   "source": [
    "df['profit'].sum()"
   ]
  },
  {
   "cell_type": "code",
   "execution_count": 42,
   "id": "b9f6e592-c202-46ea-9741-15f4fdf41684",
   "metadata": {},
   "outputs": [
    {
     "data": {
      "text/plain": [
       "24316800.0"
      ]
     },
     "execution_count": 42,
     "metadata": {},
     "output_type": "execute_result"
    }
   ],
   "source": [
    "df['profit'].max()\n"
   ]
  },
  {
   "cell_type": "code",
   "execution_count": 43,
   "id": "c23f0c09-f9d5-451b-8199-37124ffb7fdb",
   "metadata": {},
   "outputs": [
    {
     "data": {
      "text/plain": [
       "3235"
      ]
     },
     "execution_count": 43,
     "metadata": {},
     "output_type": "execute_result"
    }
   ],
   "source": [
    "df['profit'].idxmax()        #to get the location of the most profot course .\n"
   ]
  },
  {
   "cell_type": "code",
   "execution_count": 44,
   "id": "04be705d-57d4-4366-a034-3a61f6f8a5be",
   "metadata": {},
   "outputs": [
    {
     "data": {
      "text/plain": [
       "Unnamed: 0                                                          3235\n",
       "course_id                                                         625204\n",
       "course_title                                  The Web Developer Bootcamp\n",
       "url                    https://www.udemy.com/the-web-developer-bootcamp/\n",
       "is_paid                                                             True\n",
       "price                                                              200.0\n",
       "num_subscribers                                                   121584\n",
       "num_reviews                                                        27445\n",
       "num_lectures                                                         342\n",
       "level                                                         All Levels\n",
       "content_duration                                                43 hours\n",
       "published_timestamp                                 2015-11-02T21:13:27Z\n",
       "subject                                                  Web Development\n",
       "clean_course_title                                Web Developer Bootcamp\n",
       "profit                                                        24316800.0\n",
       "Name: 3235, dtype: object"
      ]
     },
     "execution_count": 44,
     "metadata": {},
     "output_type": "execute_result"
    }
   ],
   "source": [
    "df.iloc[3235]            #to get all data about the most selling course "
   ]
  },
  {
   "cell_type": "code",
   "execution_count": 45,
   "id": "4502cb5f-b827-4bf5-b12a-0cd4f07b6ff2",
   "metadata": {},
   "outputs": [
    {
     "data": {
      "text/plain": [
       "course_title\n",
       "#1 Piano Hand Coordination: Play 10th Ballad in Eb Key songs    109795.0\n",
       "#10 Hand Coordination - Transfer Chord Ballad 9 - C & Bb Key    119475.0\n",
       "#12 Hand Coordination: Let your Hands dance with Ballad 9        36150.0\n",
       "#4 Piano Hand Coordination: Fun Piano Runs in 2 Beats C Key      63750.0\n",
       "#5  Piano Hand Coordination:  Piano Runs in 2 Beats Eb Key       70500.0\n",
       "                                                                  ...   \n",
       "财务分析与估值建模入门                                                          0.0\n",
       "超基礎！超入門！〜作りながら学ぶ。完全無料3DCGソフトBlender〜                               640.0\n",
       "캔바(Canva)로 SNS 콘텐츠 만들기                                            1320.0\n",
       "６時間でインターバンク市場を攻略！最短距離でトレード基礎力                                     9800.0\n",
       "７日でマスター  ビギナー向け Adobe Illustrator　どきどきセミナー                        2160.0\n",
       "Name: profit, Length: 3668, dtype: float64"
      ]
     },
     "execution_count": 45,
     "metadata": {},
     "output_type": "execute_result"
    }
   ],
   "source": [
    "df.groupby('course_title')['profit'].sum()"
   ]
  },
  {
   "cell_type": "code",
   "execution_count": 46,
   "id": "e947a9de-6bc1-4ac8-96fa-f36f52a6f50d",
   "metadata": {},
   "outputs": [
    {
     "data": {
      "text/html": [
       "<div>\n",
       "<style scoped>\n",
       "    .dataframe tbody tr th:only-of-type {\n",
       "        vertical-align: middle;\n",
       "    }\n",
       "\n",
       "    .dataframe tbody tr th {\n",
       "        vertical-align: top;\n",
       "    }\n",
       "\n",
       "    .dataframe thead th {\n",
       "        text-align: right;\n",
       "    }\n",
       "</style>\n",
       "<table border=\"1\" class=\"dataframe\">\n",
       "  <thead>\n",
       "    <tr style=\"text-align: right;\">\n",
       "      <th></th>\n",
       "      <th>Unnamed: 0</th>\n",
       "      <th>course_id</th>\n",
       "      <th>course_title</th>\n",
       "      <th>url</th>\n",
       "      <th>is_paid</th>\n",
       "      <th>price</th>\n",
       "      <th>num_subscribers</th>\n",
       "      <th>num_reviews</th>\n",
       "      <th>num_lectures</th>\n",
       "      <th>level</th>\n",
       "      <th>content_duration</th>\n",
       "      <th>published_timestamp</th>\n",
       "      <th>subject</th>\n",
       "      <th>clean_course_title</th>\n",
       "      <th>profit</th>\n",
       "    </tr>\n",
       "  </thead>\n",
       "  <tbody>\n",
       "    <tr>\n",
       "      <th>0</th>\n",
       "      <td>0</td>\n",
       "      <td>1070968</td>\n",
       "      <td>Ultimate Investment Banking Course</td>\n",
       "      <td>https://www.udemy.com/ultimate-investment-bank...</td>\n",
       "      <td>True</td>\n",
       "      <td>200.0</td>\n",
       "      <td>2147</td>\n",
       "      <td>23</td>\n",
       "      <td>51</td>\n",
       "      <td>All Levels</td>\n",
       "      <td>1.5 hours</td>\n",
       "      <td>2017-01-18T20:58:58Z</td>\n",
       "      <td>Business Finance</td>\n",
       "      <td>Ultimate Investment Banking Course</td>\n",
       "      <td>429400.0</td>\n",
       "    </tr>\n",
       "    <tr>\n",
       "      <th>1</th>\n",
       "      <td>1</td>\n",
       "      <td>1113822</td>\n",
       "      <td>Complete GST Course &amp; Certification - Grow You...</td>\n",
       "      <td>https://www.udemy.com/goods-and-services-tax/</td>\n",
       "      <td>True</td>\n",
       "      <td>75.0</td>\n",
       "      <td>2792</td>\n",
       "      <td>923</td>\n",
       "      <td>274</td>\n",
       "      <td>All Levels</td>\n",
       "      <td>39 hours</td>\n",
       "      <td>2017-03-09T16:34:20Z</td>\n",
       "      <td>Business Finance</td>\n",
       "      <td>Complete GST Course  Certification  Grow Practice</td>\n",
       "      <td>209400.0</td>\n",
       "    </tr>\n",
       "    <tr>\n",
       "      <th>2</th>\n",
       "      <td>2</td>\n",
       "      <td>1006314</td>\n",
       "      <td>Financial Modeling for Business Analysts and C...</td>\n",
       "      <td>https://www.udemy.com/financial-modeling-for-b...</td>\n",
       "      <td>True</td>\n",
       "      <td>45.0</td>\n",
       "      <td>2174</td>\n",
       "      <td>74</td>\n",
       "      <td>51</td>\n",
       "      <td>Intermediate Level</td>\n",
       "      <td>2.5 hours</td>\n",
       "      <td>2016-12-19T19:26:30Z</td>\n",
       "      <td>Business Finance</td>\n",
       "      <td>Financial Modeling Business Analysts Consultants</td>\n",
       "      <td>97830.0</td>\n",
       "    </tr>\n",
       "    <tr>\n",
       "      <th>3</th>\n",
       "      <td>3</td>\n",
       "      <td>1210588</td>\n",
       "      <td>Beginner to Pro - Financial Analysis in Excel ...</td>\n",
       "      <td>https://www.udemy.com/complete-excel-finance-c...</td>\n",
       "      <td>True</td>\n",
       "      <td>95.0</td>\n",
       "      <td>2451</td>\n",
       "      <td>11</td>\n",
       "      <td>36</td>\n",
       "      <td>All Levels</td>\n",
       "      <td>3 hours</td>\n",
       "      <td>2017-05-30T20:07:24Z</td>\n",
       "      <td>Business Finance</td>\n",
       "      <td>Beginner Pro  Financial Analysis Excel 2017</td>\n",
       "      <td>232845.0</td>\n",
       "    </tr>\n",
       "    <tr>\n",
       "      <th>4</th>\n",
       "      <td>4</td>\n",
       "      <td>1011058</td>\n",
       "      <td>How To Maximize Your Profits Trading Options</td>\n",
       "      <td>https://www.udemy.com/how-to-maximize-your-pro...</td>\n",
       "      <td>True</td>\n",
       "      <td>200.0</td>\n",
       "      <td>1276</td>\n",
       "      <td>45</td>\n",
       "      <td>26</td>\n",
       "      <td>Intermediate Level</td>\n",
       "      <td>2 hours</td>\n",
       "      <td>2016-12-13T14:57:18Z</td>\n",
       "      <td>Business Finance</td>\n",
       "      <td>Maximize Profits Trading Options</td>\n",
       "      <td>255200.0</td>\n",
       "    </tr>\n",
       "    <tr>\n",
       "      <th>...</th>\n",
       "      <td>...</td>\n",
       "      <td>...</td>\n",
       "      <td>...</td>\n",
       "      <td>...</td>\n",
       "      <td>...</td>\n",
       "      <td>...</td>\n",
       "      <td>...</td>\n",
       "      <td>...</td>\n",
       "      <td>...</td>\n",
       "      <td>...</td>\n",
       "      <td>...</td>\n",
       "      <td>...</td>\n",
       "      <td>...</td>\n",
       "      <td>...</td>\n",
       "      <td>...</td>\n",
       "    </tr>\n",
       "    <tr>\n",
       "      <th>3678</th>\n",
       "      <td>3678</td>\n",
       "      <td>775618</td>\n",
       "      <td>Learn jQuery from Scratch - Master of JavaScri...</td>\n",
       "      <td>https://www.udemy.com/easy-jquery-for-beginner...</td>\n",
       "      <td>True</td>\n",
       "      <td>100.0</td>\n",
       "      <td>1040</td>\n",
       "      <td>14</td>\n",
       "      <td>21</td>\n",
       "      <td>All Levels</td>\n",
       "      <td>2 hours</td>\n",
       "      <td>2016-06-14T17:36:46Z</td>\n",
       "      <td>Web Development</td>\n",
       "      <td>Learn jQuery Scratch  Master JavaScript library</td>\n",
       "      <td>104000.0</td>\n",
       "    </tr>\n",
       "    <tr>\n",
       "      <th>3679</th>\n",
       "      <td>3679</td>\n",
       "      <td>1088178</td>\n",
       "      <td>How To Design A WordPress Website With No Codi...</td>\n",
       "      <td>https://www.udemy.com/how-to-make-a-wordpress-...</td>\n",
       "      <td>True</td>\n",
       "      <td>25.0</td>\n",
       "      <td>306</td>\n",
       "      <td>3</td>\n",
       "      <td>42</td>\n",
       "      <td>Beginner Level</td>\n",
       "      <td>3.5 hours</td>\n",
       "      <td>2017-03-10T22:24:30Z</td>\n",
       "      <td>Web Development</td>\n",
       "      <td>Design WordPress Website Coding</td>\n",
       "      <td>7650.0</td>\n",
       "    </tr>\n",
       "    <tr>\n",
       "      <th>3680</th>\n",
       "      <td>3680</td>\n",
       "      <td>635248</td>\n",
       "      <td>Learn and Build using Polymer</td>\n",
       "      <td>https://www.udemy.com/learn-and-build-using-po...</td>\n",
       "      <td>True</td>\n",
       "      <td>40.0</td>\n",
       "      <td>513</td>\n",
       "      <td>169</td>\n",
       "      <td>48</td>\n",
       "      <td>All Levels</td>\n",
       "      <td>3.5 hours</td>\n",
       "      <td>2015-12-30T16:41:42Z</td>\n",
       "      <td>Web Development</td>\n",
       "      <td>Learn Build Polymer</td>\n",
       "      <td>20520.0</td>\n",
       "    </tr>\n",
       "    <tr>\n",
       "      <th>3681</th>\n",
       "      <td>3681</td>\n",
       "      <td>905096</td>\n",
       "      <td>CSS Animations: Create Amazing Effects on Your...</td>\n",
       "      <td>https://www.udemy.com/css-animations-create-am...</td>\n",
       "      <td>True</td>\n",
       "      <td>50.0</td>\n",
       "      <td>300</td>\n",
       "      <td>31</td>\n",
       "      <td>38</td>\n",
       "      <td>All Levels</td>\n",
       "      <td>3 hours</td>\n",
       "      <td>2016-08-11T19:06:15Z</td>\n",
       "      <td>Web Development</td>\n",
       "      <td>CSS Animations Create Amazing Effects Website</td>\n",
       "      <td>15000.0</td>\n",
       "    </tr>\n",
       "    <tr>\n",
       "      <th>3682</th>\n",
       "      <td>3682</td>\n",
       "      <td>297602</td>\n",
       "      <td>Using MODX CMS to Build Websites: A Beginner's...</td>\n",
       "      <td>https://www.udemy.com/using-modx-cms-to-build-...</td>\n",
       "      <td>True</td>\n",
       "      <td>45.0</td>\n",
       "      <td>901</td>\n",
       "      <td>36</td>\n",
       "      <td>20</td>\n",
       "      <td>Beginner Level</td>\n",
       "      <td>2 hours</td>\n",
       "      <td>2014-09-28T19:51:11Z</td>\n",
       "      <td>Web Development</td>\n",
       "      <td>MODX CMS Build Websites Beginners Guide</td>\n",
       "      <td>40545.0</td>\n",
       "    </tr>\n",
       "  </tbody>\n",
       "</table>\n",
       "<p>3683 rows × 15 columns</p>\n",
       "</div>"
      ],
      "text/plain": [
       "      Unnamed: 0  course_id  \\\n",
       "0              0    1070968   \n",
       "1              1    1113822   \n",
       "2              2    1006314   \n",
       "3              3    1210588   \n",
       "4              4    1011058   \n",
       "...          ...        ...   \n",
       "3678        3678     775618   \n",
       "3679        3679    1088178   \n",
       "3680        3680     635248   \n",
       "3681        3681     905096   \n",
       "3682        3682     297602   \n",
       "\n",
       "                                           course_title  \\\n",
       "0                    Ultimate Investment Banking Course   \n",
       "1     Complete GST Course & Certification - Grow You...   \n",
       "2     Financial Modeling for Business Analysts and C...   \n",
       "3     Beginner to Pro - Financial Analysis in Excel ...   \n",
       "4          How To Maximize Your Profits Trading Options   \n",
       "...                                                 ...   \n",
       "3678  Learn jQuery from Scratch - Master of JavaScri...   \n",
       "3679  How To Design A WordPress Website With No Codi...   \n",
       "3680                      Learn and Build using Polymer   \n",
       "3681  CSS Animations: Create Amazing Effects on Your...   \n",
       "3682  Using MODX CMS to Build Websites: A Beginner's...   \n",
       "\n",
       "                                                    url is_paid  price  \\\n",
       "0     https://www.udemy.com/ultimate-investment-bank...    True  200.0   \n",
       "1         https://www.udemy.com/goods-and-services-tax/    True   75.0   \n",
       "2     https://www.udemy.com/financial-modeling-for-b...    True   45.0   \n",
       "3     https://www.udemy.com/complete-excel-finance-c...    True   95.0   \n",
       "4     https://www.udemy.com/how-to-maximize-your-pro...    True  200.0   \n",
       "...                                                 ...     ...    ...   \n",
       "3678  https://www.udemy.com/easy-jquery-for-beginner...    True  100.0   \n",
       "3679  https://www.udemy.com/how-to-make-a-wordpress-...    True   25.0   \n",
       "3680  https://www.udemy.com/learn-and-build-using-po...    True   40.0   \n",
       "3681  https://www.udemy.com/css-animations-create-am...    True   50.0   \n",
       "3682  https://www.udemy.com/using-modx-cms-to-build-...    True   45.0   \n",
       "\n",
       "      num_subscribers  num_reviews  num_lectures               level  \\\n",
       "0                2147           23            51          All Levels   \n",
       "1                2792          923           274          All Levels   \n",
       "2                2174           74            51  Intermediate Level   \n",
       "3                2451           11            36          All Levels   \n",
       "4                1276           45            26  Intermediate Level   \n",
       "...               ...          ...           ...                 ...   \n",
       "3678             1040           14            21          All Levels   \n",
       "3679              306            3            42      Beginner Level   \n",
       "3680              513          169            48          All Levels   \n",
       "3681              300           31            38          All Levels   \n",
       "3682              901           36            20      Beginner Level   \n",
       "\n",
       "     content_duration   published_timestamp           subject  \\\n",
       "0           1.5 hours  2017-01-18T20:58:58Z  Business Finance   \n",
       "1            39 hours  2017-03-09T16:34:20Z  Business Finance   \n",
       "2           2.5 hours  2016-12-19T19:26:30Z  Business Finance   \n",
       "3             3 hours  2017-05-30T20:07:24Z  Business Finance   \n",
       "4             2 hours  2016-12-13T14:57:18Z  Business Finance   \n",
       "...               ...                   ...               ...   \n",
       "3678          2 hours  2016-06-14T17:36:46Z   Web Development   \n",
       "3679        3.5 hours  2017-03-10T22:24:30Z   Web Development   \n",
       "3680        3.5 hours  2015-12-30T16:41:42Z   Web Development   \n",
       "3681          3 hours  2016-08-11T19:06:15Z   Web Development   \n",
       "3682          2 hours  2014-09-28T19:51:11Z   Web Development   \n",
       "\n",
       "                                     clean_course_title    profit  \n",
       "0                    Ultimate Investment Banking Course  429400.0  \n",
       "1     Complete GST Course  Certification  Grow Practice  209400.0  \n",
       "2      Financial Modeling Business Analysts Consultants   97830.0  \n",
       "3           Beginner Pro  Financial Analysis Excel 2017  232845.0  \n",
       "4                      Maximize Profits Trading Options  255200.0  \n",
       "...                                                 ...       ...  \n",
       "3678    Learn jQuery Scratch  Master JavaScript library  104000.0  \n",
       "3679                    Design WordPress Website Coding    7650.0  \n",
       "3680                                Learn Build Polymer   20520.0  \n",
       "3681      CSS Animations Create Amazing Effects Website   15000.0  \n",
       "3682            MODX CMS Build Websites Beginners Guide   40545.0  \n",
       "\n",
       "[3683 rows x 15 columns]"
      ]
     },
     "execution_count": 46,
     "metadata": {},
     "output_type": "execute_result"
    }
   ],
   "source": [
    "df"
   ]
  },
  {
   "cell_type": "code",
   "execution_count": 47,
   "id": "f3f6b642-0c68-4520-966c-e8ff11d0eb71",
   "metadata": {},
   "outputs": [
    {
     "data": {
      "text/plain": [
       "is_paid\n",
       "True                                           2738\n",
       "TRUE                                            634\n",
       "False                                           264\n",
       "FALSE                                            46\n",
       "https://www.udemy.com/learnguitartoworship/       1\n",
       "Name: count, dtype: int64"
      ]
     },
     "execution_count": 47,
     "metadata": {},
     "output_type": "execute_result"
    }
   ],
   "source": [
    "df['is_paid'].value_counts()"
   ]
  },
  {
   "cell_type": "code",
   "execution_count": 48,
   "id": "3b4d00a9-0152-4a4b-8ff6-b00f4a4f246a",
   "metadata": {},
   "outputs": [],
   "source": [
    "dec_rep={'True':True,'TRUE':True ,'False':False ,'FALSE':False , 'https://www.udemy.com/learnguitartoworship/':True}\n",
    "df['is_paid']=df['is_paid'].map(dec_rep)"
   ]
  },
  {
   "cell_type": "code",
   "execution_count": 49,
   "id": "9899a464-8bfb-4e9a-bcf3-19145004e8a9",
   "metadata": {},
   "outputs": [
    {
     "data": {
      "text/plain": [
       "is_paid\n",
       "True     3373\n",
       "False     310\n",
       "Name: count, dtype: int64"
      ]
     },
     "execution_count": 49,
     "metadata": {},
     "output_type": "execute_result"
    }
   ],
   "source": [
    "df['is_paid'].value_counts()"
   ]
  },
  {
   "cell_type": "code",
   "execution_count": 50,
   "id": "bde4eb23-600d-4c63-b0a5-9cb113841a4b",
   "metadata": {},
   "outputs": [
    {
     "data": {
      "text/plain": [
       "3683"
      ]
     },
     "execution_count": 50,
     "metadata": {},
     "output_type": "execute_result"
    }
   ],
   "source": [
    "#to get all number of courses paid or free\n",
    "\n",
    "len(df['is_paid'])\n",
    "\n"
   ]
  },
  {
   "cell_type": "code",
   "execution_count": 51,
   "id": "14fe51d2-7c05-40ba-8212-0a16119b729e",
   "metadata": {},
   "outputs": [
    {
     "data": {
      "image/png": "[encoded data removed]",
      "text/plain": [
       "<Figure size 640x480 with 1 Axes>"
      ]
     },
     "metadata": {},
     "output_type": "display_data"
    }
   ],
   "source": [
    "df['is_paid'].value_counts().plot(kind='bar')\n",
    "plt.xticks(rotation=45)\n",
    "plt.title('Num of courses based on paid or not')\n",
    "plt.show()"
   ]
  },
  {
   "cell_type": "code",
   "execution_count": 52,
   "id": "eb18ca02-483e-4bd8-8d2a-09613900f831",
   "metadata": {},
   "outputs": [
    {
     "data": {
      "text/plain": [
       "array(['Business Finance', 'Graphic Design', 'Musical Instruments',\n",
       "       'Web Development'], dtype=object)"
      ]
     },
     "execution_count": 52,
     "metadata": {},
     "output_type": "execute_result"
    }
   ],
   "source": [
    "df['subject'].unique()"
   ]
  },
  {
   "cell_type": "code",
   "execution_count": 53,
   "id": "7b6d9529-478a-4ee3-beb6-e5a0a3a3a35e",
   "metadata": {},
   "outputs": [
    {
     "data": {
      "image/png": "[encoded data removed]",
      "text/plain": [
       "<Figure size 640x480 with 1 Axes>"
      ]
     },
     "metadata": {},
     "output_type": "display_data"
    }
   ],
   "source": [
    "df.groupby('is_paid')['subject'].value_counts().plot(kind='bar')\n",
    "plt.title('Num of courses based on paid or not per subject category')\n",
    "plt.xticks(rotation=45)\n",
    "plt.show()\n",
    "\n"
   ]
  },
  {
   "cell_type": "code",
   "execution_count": 54,
   "id": "217f9df9-f87b-474b-ac46-7f3c02e5af3f",
   "metadata": {},
   "outputs": [
    {
     "data": {
      "text/plain": [
       "0       34\n",
       "1       59\n",
       "2       56\n",
       "3       50\n",
       "4       44\n",
       "        ..\n",
       "3678    56\n",
       "3679    55\n",
       "3680    29\n",
       "3681    54\n",
       "3682    52\n",
       "Name: course_title, Length: 3683, dtype: int64"
      ]
     },
     "execution_count": 54,
     "metadata": {},
     "output_type": "execute_result"
    }
   ],
   "source": [
    "#lenght of every course title .\n",
    "df['course_title'].str.len()"
   ]
  },
  {
   "cell_type": "code",
   "execution_count": 55,
   "id": "982704a6-ac69-488b-930a-880a624c4a89",
   "metadata": {},
   "outputs": [
    {
     "data": {
      "text/html": [
       "<div>\n",
       "<style scoped>\n",
       "    .dataframe tbody tr th:only-of-type {\n",
       "        vertical-align: middle;\n",
       "    }\n",
       "\n",
       "    .dataframe tbody tr th {\n",
       "        vertical-align: top;\n",
       "    }\n",
       "\n",
       "    .dataframe thead th {\n",
       "        text-align: right;\n",
       "    }\n",
       "</style>\n",
       "<table border=\"1\" class=\"dataframe\">\n",
       "  <thead>\n",
       "    <tr style=\"text-align: right;\">\n",
       "      <th></th>\n",
       "      <th>Unnamed: 0</th>\n",
       "      <th>course_id</th>\n",
       "      <th>course_title</th>\n",
       "      <th>url</th>\n",
       "      <th>is_paid</th>\n",
       "      <th>price</th>\n",
       "      <th>num_subscribers</th>\n",
       "      <th>num_reviews</th>\n",
       "      <th>num_lectures</th>\n",
       "      <th>level</th>\n",
       "      <th>content_duration</th>\n",
       "      <th>published_timestamp</th>\n",
       "      <th>subject</th>\n",
       "      <th>clean_course_title</th>\n",
       "      <th>profit</th>\n",
       "      <th>course_title_lenght</th>\n",
       "    </tr>\n",
       "  </thead>\n",
       "  <tbody>\n",
       "    <tr>\n",
       "      <th>0</th>\n",
       "      <td>0</td>\n",
       "      <td>1070968</td>\n",
       "      <td>Ultimate Investment Banking Course</td>\n",
       "      <td>https://www.udemy.com/ultimate-investment-bank...</td>\n",
       "      <td>True</td>\n",
       "      <td>200.0</td>\n",
       "      <td>2147</td>\n",
       "      <td>23</td>\n",
       "      <td>51</td>\n",
       "      <td>All Levels</td>\n",
       "      <td>1.5 hours</td>\n",
       "      <td>2017-01-18T20:58:58Z</td>\n",
       "      <td>Business Finance</td>\n",
       "      <td>Ultimate Investment Banking Course</td>\n",
       "      <td>429400.0</td>\n",
       "      <td>34</td>\n",
       "    </tr>\n",
       "    <tr>\n",
       "      <th>1</th>\n",
       "      <td>1</td>\n",
       "      <td>1113822</td>\n",
       "      <td>Complete GST Course &amp; Certification - Grow You...</td>\n",
       "      <td>https://www.udemy.com/goods-and-services-tax/</td>\n",
       "      <td>True</td>\n",
       "      <td>75.0</td>\n",
       "      <td>2792</td>\n",
       "      <td>923</td>\n",
       "      <td>274</td>\n",
       "      <td>All Levels</td>\n",
       "      <td>39 hours</td>\n",
       "      <td>2017-03-09T16:34:20Z</td>\n",
       "      <td>Business Finance</td>\n",
       "      <td>Complete GST Course  Certification  Grow Practice</td>\n",
       "      <td>209400.0</td>\n",
       "      <td>59</td>\n",
       "    </tr>\n",
       "    <tr>\n",
       "      <th>2</th>\n",
       "      <td>2</td>\n",
       "      <td>1006314</td>\n",
       "      <td>Financial Modeling for Business Analysts and C...</td>\n",
       "      <td>https://www.udemy.com/financial-modeling-for-b...</td>\n",
       "      <td>True</td>\n",
       "      <td>45.0</td>\n",
       "      <td>2174</td>\n",
       "      <td>74</td>\n",
       "      <td>51</td>\n",
       "      <td>Intermediate Level</td>\n",
       "      <td>2.5 hours</td>\n",
       "      <td>2016-12-19T19:26:30Z</td>\n",
       "      <td>Business Finance</td>\n",
       "      <td>Financial Modeling Business Analysts Consultants</td>\n",
       "      <td>97830.0</td>\n",
       "      <td>56</td>\n",
       "    </tr>\n",
       "    <tr>\n",
       "      <th>3</th>\n",
       "      <td>3</td>\n",
       "      <td>1210588</td>\n",
       "      <td>Beginner to Pro - Financial Analysis in Excel ...</td>\n",
       "      <td>https://www.udemy.com/complete-excel-finance-c...</td>\n",
       "      <td>True</td>\n",
       "      <td>95.0</td>\n",
       "      <td>2451</td>\n",
       "      <td>11</td>\n",
       "      <td>36</td>\n",
       "      <td>All Levels</td>\n",
       "      <td>3 hours</td>\n",
       "      <td>2017-05-30T20:07:24Z</td>\n",
       "      <td>Business Finance</td>\n",
       "      <td>Beginner Pro  Financial Analysis Excel 2017</td>\n",
       "      <td>232845.0</td>\n",
       "      <td>50</td>\n",
       "    </tr>\n",
       "    <tr>\n",
       "      <th>4</th>\n",
       "      <td>4</td>\n",
       "      <td>1011058</td>\n",
       "      <td>How To Maximize Your Profits Trading Options</td>\n",
       "      <td>https://www.udemy.com/how-to-maximize-your-pro...</td>\n",
       "      <td>True</td>\n",
       "      <td>200.0</td>\n",
       "      <td>1276</td>\n",
       "      <td>45</td>\n",
       "      <td>26</td>\n",
       "      <td>Intermediate Level</td>\n",
       "      <td>2 hours</td>\n",
       "      <td>2016-12-13T14:57:18Z</td>\n",
       "      <td>Business Finance</td>\n",
       "      <td>Maximize Profits Trading Options</td>\n",
       "      <td>255200.0</td>\n",
       "      <td>44</td>\n",
       "    </tr>\n",
       "    <tr>\n",
       "      <th>...</th>\n",
       "      <td>...</td>\n",
       "      <td>...</td>\n",
       "      <td>...</td>\n",
       "      <td>...</td>\n",
       "      <td>...</td>\n",
       "      <td>...</td>\n",
       "      <td>...</td>\n",
       "      <td>...</td>\n",
       "      <td>...</td>\n",
       "      <td>...</td>\n",
       "      <td>...</td>\n",
       "      <td>...</td>\n",
       "      <td>...</td>\n",
       "      <td>...</td>\n",
       "      <td>...</td>\n",
       "      <td>...</td>\n",
       "    </tr>\n",
       "    <tr>\n",
       "      <th>3678</th>\n",
       "      <td>3678</td>\n",
       "      <td>775618</td>\n",
       "      <td>Learn jQuery from Scratch - Master of JavaScri...</td>\n",
       "      <td>https://www.udemy.com/easy-jquery-for-beginner...</td>\n",
       "      <td>True</td>\n",
       "      <td>100.0</td>\n",
       "      <td>1040</td>\n",
       "      <td>14</td>\n",
       "      <td>21</td>\n",
       "      <td>All Levels</td>\n",
       "      <td>2 hours</td>\n",
       "      <td>2016-06-14T17:36:46Z</td>\n",
       "      <td>Web Development</td>\n",
       "      <td>Learn jQuery Scratch  Master JavaScript library</td>\n",
       "      <td>104000.0</td>\n",
       "      <td>56</td>\n",
       "    </tr>\n",
       "    <tr>\n",
       "      <th>3679</th>\n",
       "      <td>3679</td>\n",
       "      <td>1088178</td>\n",
       "      <td>How To Design A WordPress Website With No Codi...</td>\n",
       "      <td>https://www.udemy.com/how-to-make-a-wordpress-...</td>\n",
       "      <td>True</td>\n",
       "      <td>25.0</td>\n",
       "      <td>306</td>\n",
       "      <td>3</td>\n",
       "      <td>42</td>\n",
       "      <td>Beginner Level</td>\n",
       "      <td>3.5 hours</td>\n",
       "      <td>2017-03-10T22:24:30Z</td>\n",
       "      <td>Web Development</td>\n",
       "      <td>Design WordPress Website Coding</td>\n",
       "      <td>7650.0</td>\n",
       "      <td>55</td>\n",
       "    </tr>\n",
       "    <tr>\n",
       "      <th>3680</th>\n",
       "      <td>3680</td>\n",
       "      <td>635248</td>\n",
       "      <td>Learn and Build using Polymer</td>\n",
       "      <td>https://www.udemy.com/learn-and-build-using-po...</td>\n",
       "      <td>True</td>\n",
       "      <td>40.0</td>\n",
       "      <td>513</td>\n",
       "      <td>169</td>\n",
       "      <td>48</td>\n",
       "      <td>All Levels</td>\n",
       "      <td>3.5 hours</td>\n",
       "      <td>2015-12-30T16:41:42Z</td>\n",
       "      <td>Web Development</td>\n",
       "      <td>Learn Build Polymer</td>\n",
       "      <td>20520.0</td>\n",
       "      <td>29</td>\n",
       "    </tr>\n",
       "    <tr>\n",
       "      <th>3681</th>\n",
       "      <td>3681</td>\n",
       "      <td>905096</td>\n",
       "      <td>CSS Animations: Create Amazing Effects on Your...</td>\n",
       "      <td>https://www.udemy.com/css-animations-create-am...</td>\n",
       "      <td>True</td>\n",
       "      <td>50.0</td>\n",
       "      <td>300</td>\n",
       "      <td>31</td>\n",
       "      <td>38</td>\n",
       "      <td>All Levels</td>\n",
       "      <td>3 hours</td>\n",
       "      <td>2016-08-11T19:06:15Z</td>\n",
       "      <td>Web Development</td>\n",
       "      <td>CSS Animations Create Amazing Effects Website</td>\n",
       "      <td>15000.0</td>\n",
       "      <td>54</td>\n",
       "    </tr>\n",
       "    <tr>\n",
       "      <th>3682</th>\n",
       "      <td>3682</td>\n",
       "      <td>297602</td>\n",
       "      <td>Using MODX CMS to Build Websites: A Beginner's...</td>\n",
       "      <td>https://www.udemy.com/using-modx-cms-to-build-...</td>\n",
       "      <td>True</td>\n",
       "      <td>45.0</td>\n",
       "      <td>901</td>\n",
       "      <td>36</td>\n",
       "      <td>20</td>\n",
       "      <td>Beginner Level</td>\n",
       "      <td>2 hours</td>\n",
       "      <td>2014-09-28T19:51:11Z</td>\n",
       "      <td>Web Development</td>\n",
       "      <td>MODX CMS Build Websites Beginners Guide</td>\n",
       "      <td>40545.0</td>\n",
       "      <td>52</td>\n",
       "    </tr>\n",
       "  </tbody>\n",
       "</table>\n",
       "<p>3683 rows × 16 columns</p>\n",
       "</div>"
      ],
      "text/plain": [
       "      Unnamed: 0  course_id  \\\n",
       "0              0    1070968   \n",
       "1              1    1113822   \n",
       "2              2    1006314   \n",
       "3              3    1210588   \n",
       "4              4    1011058   \n",
       "...          ...        ...   \n",
       "3678        3678     775618   \n",
       "3679        3679    1088178   \n",
       "3680        3680     635248   \n",
       "3681        3681     905096   \n",
       "3682        3682     297602   \n",
       "\n",
       "                                           course_title  \\\n",
       "0                    Ultimate Investment Banking Course   \n",
       "1     Complete GST Course & Certification - Grow You...   \n",
       "2     Financial Modeling for Business Analysts and C...   \n",
       "3     Beginner to Pro - Financial Analysis in Excel ...   \n",
       "4          How To Maximize Your Profits Trading Options   \n",
       "...                                                 ...   \n",
       "3678  Learn jQuery from Scratch - Master of JavaScri...   \n",
       "3679  How To Design A WordPress Website With No Codi...   \n",
       "3680                      Learn and Build using Polymer   \n",
       "3681  CSS Animations: Create Amazing Effects on Your...   \n",
       "3682  Using MODX CMS to Build Websites: A Beginner's...   \n",
       "\n",
       "                                                    url  is_paid  price  \\\n",
       "0     https://www.udemy.com/ultimate-investment-bank...     True  200.0   \n",
       "1         https://www.udemy.com/goods-and-services-tax/     True   75.0   \n",
       "2     https://www.udemy.com/financial-modeling-for-b...     True   45.0   \n",
       "3     https://www.udemy.com/complete-excel-finance-c...     True   95.0   \n",
       "4     https://www.udemy.com/how-to-maximize-your-pro...     True  200.0   \n",
       "...                                                 ...      ...    ...   \n",
       "3678  https://www.udemy.com/easy-jquery-for-beginner...     True  100.0   \n",
       "3679  https://www.udemy.com/how-to-make-a-wordpress-...     True   25.0   \n",
       "3680  https://www.udemy.com/learn-and-build-using-po...     True   40.0   \n",
       "3681  https://www.udemy.com/css-animations-create-am...     True   50.0   \n",
       "3682  https://www.udemy.com/using-modx-cms-to-build-...     True   45.0   \n",
       "\n",
       "      num_subscribers  num_reviews  num_lectures               level  \\\n",
       "0                2147           23            51          All Levels   \n",
       "1                2792          923           274          All Levels   \n",
       "2                2174           74            51  Intermediate Level   \n",
       "3                2451           11            36          All Levels   \n",
       "4                1276           45            26  Intermediate Level   \n",
       "...               ...          ...           ...                 ...   \n",
       "3678             1040           14            21          All Levels   \n",
       "3679              306            3            42      Beginner Level   \n",
       "3680              513          169            48          All Levels   \n",
       "3681              300           31            38          All Levels   \n",
       "3682              901           36            20      Beginner Level   \n",
       "\n",
       "     content_duration   published_timestamp           subject  \\\n",
       "0           1.5 hours  2017-01-18T20:58:58Z  Business Finance   \n",
       "1            39 hours  2017-03-09T16:34:20Z  Business Finance   \n",
       "2           2.5 hours  2016-12-19T19:26:30Z  Business Finance   \n",
       "3             3 hours  2017-05-30T20:07:24Z  Business Finance   \n",
       "4             2 hours  2016-12-13T14:57:18Z  Business Finance   \n",
       "...               ...                   ...               ...   \n",
       "3678          2 hours  2016-06-14T17:36:46Z   Web Development   \n",
       "3679        3.5 hours  2017-03-10T22:24:30Z   Web Development   \n",
       "3680        3.5 hours  2015-12-30T16:41:42Z   Web Development   \n",
       "3681          3 hours  2016-08-11T19:06:15Z   Web Development   \n",
       "3682          2 hours  2014-09-28T19:51:11Z   Web Development   \n",
       "\n",
       "                                     clean_course_title    profit  \\\n",
       "0                    Ultimate Investment Banking Course  429400.0   \n",
       "1     Complete GST Course  Certification  Grow Practice  209400.0   \n",
       "2      Financial Modeling Business Analysts Consultants   97830.0   \n",
       "3           Beginner Pro  Financial Analysis Excel 2017  232845.0   \n",
       "4                      Maximize Profits Trading Options  255200.0   \n",
       "...                                                 ...       ...   \n",
       "3678    Learn jQuery Scratch  Master JavaScript library  104000.0   \n",
       "3679                    Design WordPress Website Coding    7650.0   \n",
       "3680                                Learn Build Polymer   20520.0   \n",
       "3681      CSS Animations Create Amazing Effects Website   15000.0   \n",
       "3682            MODX CMS Build Websites Beginners Guide   40545.0   \n",
       "\n",
       "      course_title_lenght  \n",
       "0                      34  \n",
       "1                      59  \n",
       "2                      56  \n",
       "3                      50  \n",
       "4                      44  \n",
       "...                   ...  \n",
       "3678                   56  \n",
       "3679                   55  \n",
       "3680                   29  \n",
       "3681                   54  \n",
       "3682                   52  \n",
       "\n",
       "[3683 rows x 16 columns]"
      ]
     },
     "execution_count": 55,
     "metadata": {},
     "output_type": "execute_result"
    }
   ],
   "source": [
    "#the max lengh course title \n",
    "#firstly adding column to the dataset \n",
    "df['course_title_lenght']=df['course_title'].str.len()\n",
    "df"
   ]
  },
  {
   "cell_type": "code",
   "execution_count": 56,
   "id": "25859181-3e83-4203-a3a4-9098f5a6e515",
   "metadata": {},
   "outputs": [
    {
     "data": {
      "text/plain": [
       "243"
      ]
     },
     "execution_count": 56,
     "metadata": {},
     "output_type": "execute_result"
    }
   ],
   "source": [
    "#the maximum lenght      #iloc=integer location \n",
    "df['course_title_lenght'].max()\n",
    "\n"
   ]
  },
  {
   "cell_type": "code",
   "execution_count": 57,
   "id": "c36290bf-e8fc-418c-8267-a84c652189fe",
   "metadata": {},
   "outputs": [
    {
     "data": {
      "text/plain": [
       "2191"
      ]
     },
     "execution_count": 57,
     "metadata": {},
     "output_type": "execute_result"
    }
   ],
   "source": [
    "df['course_title_lenght'].idxmax()\n"
   ]
  },
  {
   "cell_type": "code",
   "execution_count": 58,
   "id": "153e8c42-6059-44d4-a001-efb0117d3ec2",
   "metadata": {},
   "outputs": [
    {
     "data": {
      "text/plain": [
       "Unnamed: 0                                                          2191\n",
       "course_id                                                         286898\n",
       "course_title           Aprende a tocar el Acordeón 'de oído y con téc...\n",
       "url                    https://www.udemy.com/aprende-los-secretos-de-...\n",
       "is_paid                                                             True\n",
       "price                                                               75.0\n",
       "num_subscribers                                                      158\n",
       "num_reviews                                                           17\n",
       "num_lectures                                                          59\n",
       "level                                                         All Levels\n",
       "content_duration                                               2.5 hours\n",
       "published_timestamp                                 2014-07-28T13:55:43Z\n",
       "subject                                              Musical Instruments\n",
       "clean_course_title     Aprende tocar el Acorden de odo con tcnicahttp...\n",
       "profit                                                           11850.0\n",
       "course_title_lenght                                                  243\n",
       "Name: 2191, dtype: object"
      ]
     },
     "execution_count": 58,
     "metadata": {},
     "output_type": "execute_result"
    }
   ],
   "source": [
    "#get location \n",
    "df.iloc[2191]"
   ]
  },
  {
   "cell_type": "code",
   "execution_count": null,
   "id": "4b0f1dca-e1ae-42c3-bae6-10c0eb5275c4",
   "metadata": {},
   "outputs": [],
   "source": []
  },
  {
   "cell_type": "code",
   "execution_count": 59,
   "id": "a99777de-d2b5-4262-bca3-c209253a2ddd",
   "metadata": {},
   "outputs": [
    {
     "data": {
      "text/plain": [
       "6"
      ]
     },
     "execution_count": 59,
     "metadata": {},
     "output_type": "execute_result"
    }
   ],
   "source": [
    "df['course_title_lenght'].min()"
   ]
  },
  {
   "cell_type": "code",
   "execution_count": 60,
   "id": "7ac6ada5-b682-4969-ace3-a29d5d59c102",
   "metadata": {},
   "outputs": [
    {
     "data": {
      "text/plain": [
       "1328"
      ]
     },
     "execution_count": 60,
     "metadata": {},
     "output_type": "execute_result"
    }
   ],
   "source": [
    "df['course_title_lenght'].idxmin()\n"
   ]
  },
  {
   "cell_type": "code",
   "execution_count": 61,
   "id": "64f2c9d1-0d41-4632-a7f3-df557aef495a",
   "metadata": {},
   "outputs": [
    {
     "data": {
      "text/plain": [
       "Unnamed: 0                                        1328\n",
       "course_id                                      1164570\n",
       "course_title                                    调色高级讲解\n",
       "url                    https://www.udemy.com/dezepioy/\n",
       "is_paid                                           True\n",
       "price                                            200.0\n",
       "num_subscribers                                      4\n",
       "num_reviews                                          2\n",
       "num_lectures                                         8\n",
       "level                                   Beginner Level\n",
       "content_duration                                1 hour\n",
       "published_timestamp               2017-03-31T17:16:15Z\n",
       "subject                                 Graphic Design\n",
       "clean_course_title                                 NaN\n",
       "profit                                           800.0\n",
       "course_title_lenght                                  6\n",
       "Name: 1328, dtype: object"
      ]
     },
     "execution_count": 61,
     "metadata": {},
     "output_type": "execute_result"
    }
   ],
   "source": [
    "#get location \n",
    "df.iloc[1328]"
   ]
  },
  {
   "cell_type": "code",
   "execution_count": 129,
   "id": "b856e248-86cc-4472-9b6d-90d3e680e8fc",
   "metadata": {},
   "outputs": [
    {
     "data": {
      "text/plain": [
       "Index(['Unnamed: 0', 'course_id', 'course_title', 'url', 'is_paid', 'price',\n",
       "       'num_subscribers', 'num_reviews', 'num_lectures', 'level',\n",
       "       'content_duration', 'published_timestamp', 'subject',\n",
       "       'clean_course_title', 'profit', 'course_title_lenght'],\n",
       "      dtype='object')"
      ]
     },
     "execution_count": 129,
     "metadata": {},
     "output_type": "execute_result"
    }
   ],
   "source": [
    "df.columns"
   ]
  },
  {
   "cell_type": "code",
   "execution_count": 131,
   "id": "1f25ee0b-ddb5-4d91-b191-1551a555768d",
   "metadata": {},
   "outputs": [
    {
     "data": {
      "text/plain": [
       "0       [2017-01-18, 20:58:58Z]\n",
       "1       [2017-03-09, 16:34:20Z]\n",
       "2       [2016-12-19, 19:26:30Z]\n",
       "3       [2017-05-30, 20:07:24Z]\n",
       "4       [2016-12-13, 14:57:18Z]\n",
       "                 ...           \n",
       "3678    [2016-06-14, 17:36:46Z]\n",
       "3679    [2017-03-10, 22:24:30Z]\n",
       "3680    [2015-12-30, 16:41:42Z]\n",
       "3681    [2016-08-11, 19:06:15Z]\n",
       "3682    [2014-09-28, 19:51:11Z]\n",
       "Name: published_timestamp, Length: 3683, dtype: object"
      ]
     },
     "execution_count": 131,
     "metadata": {},
     "output_type": "execute_result"
    }
   ],
   "source": [
    "df['published_timestamp'].str.split('T')"
   ]
  },
  {
   "cell_type": "code",
   "execution_count": 133,
   "id": "22e4d9a4-4e3f-45e3-80ed-b775bc1f386e",
   "metadata": {},
   "outputs": [
    {
     "data": {
      "text/plain": [
       "0       2017-01-18\n",
       "1       2017-03-09\n",
       "2       2016-12-19\n",
       "3       2017-05-30\n",
       "4       2016-12-13\n",
       "           ...    \n",
       "3678    2016-06-14\n",
       "3679    2017-03-10\n",
       "3680    2015-12-30\n",
       "3681    2016-08-11\n",
       "3682    2014-09-28\n",
       "Name: published_timestamp, Length: 3683, dtype: object"
      ]
     },
     "execution_count": 133,
     "metadata": {},
     "output_type": "execute_result"
    }
   ],
   "source": [
    "df['published_timestamp'].str.split('T').str.get(0)"
   ]
  },
  {
   "cell_type": "code",
   "execution_count": 137,
   "id": "22720c6d-8190-4840-ab8f-3e61d7cafb2d",
   "metadata": {},
   "outputs": [
    {
     "data": {
      "text/plain": [
       "0       2017-01-18\n",
       "1       2017-03-09\n",
       "2       2016-12-19\n",
       "3       2017-05-30\n",
       "4       2016-12-13\n",
       "           ...    \n",
       "3678    2016-06-14\n",
       "3679    2017-03-10\n",
       "3680    2015-12-30\n",
       "3681    2016-08-11\n",
       "3682    2014-09-28\n",
       "Name: published_date, Length: 3683, dtype: object"
      ]
     },
     "execution_count": 137,
     "metadata": {},
     "output_type": "execute_result"
    }
   ],
   "source": [
    "df['published_date']=df['published_timestamp'].str.split('T').str.get(0)\n",
    "df['published_date']"
   ]
  },
  {
   "cell_type": "code",
   "execution_count": 139,
   "id": "d3a47e5d-4c06-4d1f-9162-ba478d526027",
   "metadata": {},
   "outputs": [
    {
     "data": {
      "text/html": [
       "<div>\n",
       "<style scoped>\n",
       "    .dataframe tbody tr th:only-of-type {\n",
       "        vertical-align: middle;\n",
       "    }\n",
       "\n",
       "    .dataframe tbody tr th {\n",
       "        vertical-align: top;\n",
       "    }\n",
       "\n",
       "    .dataframe thead th {\n",
       "        text-align: right;\n",
       "    }\n",
       "</style>\n",
       "<table border=\"1\" class=\"dataframe\">\n",
       "  <thead>\n",
       "    <tr style=\"text-align: right;\">\n",
       "      <th></th>\n",
       "      <th>Unnamed: 0</th>\n",
       "      <th>course_id</th>\n",
       "      <th>course_title</th>\n",
       "      <th>url</th>\n",
       "      <th>is_paid</th>\n",
       "      <th>price</th>\n",
       "      <th>num_subscribers</th>\n",
       "      <th>num_reviews</th>\n",
       "      <th>num_lectures</th>\n",
       "      <th>level</th>\n",
       "      <th>content_duration</th>\n",
       "      <th>published_timestamp</th>\n",
       "      <th>subject</th>\n",
       "      <th>clean_course_title</th>\n",
       "      <th>profit</th>\n",
       "      <th>course_title_lenght</th>\n",
       "      <th>published_date</th>\n",
       "    </tr>\n",
       "  </thead>\n",
       "  <tbody>\n",
       "    <tr>\n",
       "      <th>0</th>\n",
       "      <td>0</td>\n",
       "      <td>1070968</td>\n",
       "      <td>Ultimate Investment Banking Course</td>\n",
       "      <td>https://www.udemy.com/ultimate-investment-bank...</td>\n",
       "      <td>True</td>\n",
       "      <td>200.0</td>\n",
       "      <td>2147</td>\n",
       "      <td>23</td>\n",
       "      <td>51</td>\n",
       "      <td>All Levels</td>\n",
       "      <td>1.5 hours</td>\n",
       "      <td>2017-01-18T20:58:58Z</td>\n",
       "      <td>Business Finance</td>\n",
       "      <td>Ultimate Investment Banking Course</td>\n",
       "      <td>429400.0</td>\n",
       "      <td>34</td>\n",
       "      <td>2017-01-18</td>\n",
       "    </tr>\n",
       "    <tr>\n",
       "      <th>1</th>\n",
       "      <td>1</td>\n",
       "      <td>1113822</td>\n",
       "      <td>Complete GST Course &amp; Certification - Grow You...</td>\n",
       "      <td>https://www.udemy.com/goods-and-services-tax/</td>\n",
       "      <td>True</td>\n",
       "      <td>75.0</td>\n",
       "      <td>2792</td>\n",
       "      <td>923</td>\n",
       "      <td>274</td>\n",
       "      <td>All Levels</td>\n",
       "      <td>39 hours</td>\n",
       "      <td>2017-03-09T16:34:20Z</td>\n",
       "      <td>Business Finance</td>\n",
       "      <td>Complete GST Course  Certification  Grow Practice</td>\n",
       "      <td>209400.0</td>\n",
       "      <td>59</td>\n",
       "      <td>2017-03-09</td>\n",
       "    </tr>\n",
       "    <tr>\n",
       "      <th>2</th>\n",
       "      <td>2</td>\n",
       "      <td>1006314</td>\n",
       "      <td>Financial Modeling for Business Analysts and C...</td>\n",
       "      <td>https://www.udemy.com/financial-modeling-for-b...</td>\n",
       "      <td>True</td>\n",
       "      <td>45.0</td>\n",
       "      <td>2174</td>\n",
       "      <td>74</td>\n",
       "      <td>51</td>\n",
       "      <td>Intermediate Level</td>\n",
       "      <td>2.5 hours</td>\n",
       "      <td>2016-12-19T19:26:30Z</td>\n",
       "      <td>Business Finance</td>\n",
       "      <td>Financial Modeling Business Analysts Consultants</td>\n",
       "      <td>97830.0</td>\n",
       "      <td>56</td>\n",
       "      <td>2016-12-19</td>\n",
       "    </tr>\n",
       "    <tr>\n",
       "      <th>3</th>\n",
       "      <td>3</td>\n",
       "      <td>1210588</td>\n",
       "      <td>Beginner to Pro - Financial Analysis in Excel ...</td>\n",
       "      <td>https://www.udemy.com/complete-excel-finance-c...</td>\n",
       "      <td>True</td>\n",
       "      <td>95.0</td>\n",
       "      <td>2451</td>\n",
       "      <td>11</td>\n",
       "      <td>36</td>\n",
       "      <td>All Levels</td>\n",
       "      <td>3 hours</td>\n",
       "      <td>2017-05-30T20:07:24Z</td>\n",
       "      <td>Business Finance</td>\n",
       "      <td>Beginner Pro  Financial Analysis Excel 2017</td>\n",
       "      <td>232845.0</td>\n",
       "      <td>50</td>\n",
       "      <td>2017-05-30</td>\n",
       "    </tr>\n",
       "    <tr>\n",
       "      <th>4</th>\n",
       "      <td>4</td>\n",
       "      <td>1011058</td>\n",
       "      <td>How To Maximize Your Profits Trading Options</td>\n",
       "      <td>https://www.udemy.com/how-to-maximize-your-pro...</td>\n",
       "      <td>True</td>\n",
       "      <td>200.0</td>\n",
       "      <td>1276</td>\n",
       "      <td>45</td>\n",
       "      <td>26</td>\n",
       "      <td>Intermediate Level</td>\n",
       "      <td>2 hours</td>\n",
       "      <td>2016-12-13T14:57:18Z</td>\n",
       "      <td>Business Finance</td>\n",
       "      <td>Maximize Profits Trading Options</td>\n",
       "      <td>255200.0</td>\n",
       "      <td>44</td>\n",
       "      <td>2016-12-13</td>\n",
       "    </tr>\n",
       "    <tr>\n",
       "      <th>...</th>\n",
       "      <td>...</td>\n",
       "      <td>...</td>\n",
       "      <td>...</td>\n",
       "      <td>...</td>\n",
       "      <td>...</td>\n",
       "      <td>...</td>\n",
       "      <td>...</td>\n",
       "      <td>...</td>\n",
       "      <td>...</td>\n",
       "      <td>...</td>\n",
       "      <td>...</td>\n",
       "      <td>...</td>\n",
       "      <td>...</td>\n",
       "      <td>...</td>\n",
       "      <td>...</td>\n",
       "      <td>...</td>\n",
       "      <td>...</td>\n",
       "    </tr>\n",
       "    <tr>\n",
       "      <th>3678</th>\n",
       "      <td>3678</td>\n",
       "      <td>775618</td>\n",
       "      <td>Learn jQuery from Scratch - Master of JavaScri...</td>\n",
       "      <td>https://www.udemy.com/easy-jquery-for-beginner...</td>\n",
       "      <td>True</td>\n",
       "      <td>100.0</td>\n",
       "      <td>1040</td>\n",
       "      <td>14</td>\n",
       "      <td>21</td>\n",
       "      <td>All Levels</td>\n",
       "      <td>2 hours</td>\n",
       "      <td>2016-06-14T17:36:46Z</td>\n",
       "      <td>Web Development</td>\n",
       "      <td>Learn jQuery Scratch  Master JavaScript library</td>\n",
       "      <td>104000.0</td>\n",
       "      <td>56</td>\n",
       "      <td>2016-06-14</td>\n",
       "    </tr>\n",
       "    <tr>\n",
       "      <th>3679</th>\n",
       "      <td>3679</td>\n",
       "      <td>1088178</td>\n",
       "      <td>How To Design A WordPress Website With No Codi...</td>\n",
       "      <td>https://www.udemy.com/how-to-make-a-wordpress-...</td>\n",
       "      <td>True</td>\n",
       "      <td>25.0</td>\n",
       "      <td>306</td>\n",
       "      <td>3</td>\n",
       "      <td>42</td>\n",
       "      <td>Beginner Level</td>\n",
       "      <td>3.5 hours</td>\n",
       "      <td>2017-03-10T22:24:30Z</td>\n",
       "      <td>Web Development</td>\n",
       "      <td>Design WordPress Website Coding</td>\n",
       "      <td>7650.0</td>\n",
       "      <td>55</td>\n",
       "      <td>2017-03-10</td>\n",
       "    </tr>\n",
       "    <tr>\n",
       "      <th>3680</th>\n",
       "      <td>3680</td>\n",
       "      <td>635248</td>\n",
       "      <td>Learn and Build using Polymer</td>\n",
       "      <td>https://www.udemy.com/learn-and-build-using-po...</td>\n",
       "      <td>True</td>\n",
       "      <td>40.0</td>\n",
       "      <td>513</td>\n",
       "      <td>169</td>\n",
       "      <td>48</td>\n",
       "      <td>All Levels</td>\n",
       "      <td>3.5 hours</td>\n",
       "      <td>2015-12-30T16:41:42Z</td>\n",
       "      <td>Web Development</td>\n",
       "      <td>Learn Build Polymer</td>\n",
       "      <td>20520.0</td>\n",
       "      <td>29</td>\n",
       "      <td>2015-12-30</td>\n",
       "    </tr>\n",
       "    <tr>\n",
       "      <th>3681</th>\n",
       "      <td>3681</td>\n",
       "      <td>905096</td>\n",
       "      <td>CSS Animations: Create Amazing Effects on Your...</td>\n",
       "      <td>https://www.udemy.com/css-animations-create-am...</td>\n",
       "      <td>True</td>\n",
       "      <td>50.0</td>\n",
       "      <td>300</td>\n",
       "      <td>31</td>\n",
       "      <td>38</td>\n",
       "      <td>All Levels</td>\n",
       "      <td>3 hours</td>\n",
       "      <td>2016-08-11T19:06:15Z</td>\n",
       "      <td>Web Development</td>\n",
       "      <td>CSS Animations Create Amazing Effects Website</td>\n",
       "      <td>15000.0</td>\n",
       "      <td>54</td>\n",
       "      <td>2016-08-11</td>\n",
       "    </tr>\n",
       "    <tr>\n",
       "      <th>3682</th>\n",
       "      <td>3682</td>\n",
       "      <td>297602</td>\n",
       "      <td>Using MODX CMS to Build Websites: A Beginner's...</td>\n",
       "      <td>https://www.udemy.com/using-modx-cms-to-build-...</td>\n",
       "      <td>True</td>\n",
       "      <td>45.0</td>\n",
       "      <td>901</td>\n",
       "      <td>36</td>\n",
       "      <td>20</td>\n",
       "      <td>Beginner Level</td>\n",
       "      <td>2 hours</td>\n",
       "      <td>2014-09-28T19:51:11Z</td>\n",
       "      <td>Web Development</td>\n",
       "      <td>MODX CMS Build Websites Beginners Guide</td>\n",
       "      <td>40545.0</td>\n",
       "      <td>52</td>\n",
       "      <td>2014-09-28</td>\n",
       "    </tr>\n",
       "  </tbody>\n",
       "</table>\n",
       "<p>3683 rows × 17 columns</p>\n",
       "</div>"
      ],
      "text/plain": [
       "      Unnamed: 0  course_id  \\\n",
       "0              0    1070968   \n",
       "1              1    1113822   \n",
       "2              2    1006314   \n",
       "3              3    1210588   \n",
       "4              4    1011058   \n",
       "...          ...        ...   \n",
       "3678        3678     775618   \n",
       "3679        3679    1088178   \n",
       "3680        3680     635248   \n",
       "3681        3681     905096   \n",
       "3682        3682     297602   \n",
       "\n",
       "                                           course_title  \\\n",
       "0                    Ultimate Investment Banking Course   \n",
       "1     Complete GST Course & Certification - Grow You...   \n",
       "2     Financial Modeling for Business Analysts and C...   \n",
       "3     Beginner to Pro - Financial Analysis in Excel ...   \n",
       "4          How To Maximize Your Profits Trading Options   \n",
       "...                                                 ...   \n",
       "3678  Learn jQuery from Scratch - Master of JavaScri...   \n",
       "3679  How To Design A WordPress Website With No Codi...   \n",
       "3680                      Learn and Build using Polymer   \n",
       "3681  CSS Animations: Create Amazing Effects on Your...   \n",
       "3682  Using MODX CMS to Build Websites: A Beginner's...   \n",
       "\n",
       "                                                    url  is_paid  price  \\\n",
       "0     https://www.udemy.com/ultimate-investment-bank...     True  200.0   \n",
       "1         https://www.udemy.com/goods-and-services-tax/     True   75.0   \n",
       "2     https://www.udemy.com/financial-modeling-for-b...     True   45.0   \n",
       "3     https://www.udemy.com/complete-excel-finance-c...     True   95.0   \n",
       "4     https://www.udemy.com/how-to-maximize-your-pro...     True  200.0   \n",
       "...                                                 ...      ...    ...   \n",
       "3678  https://www.udemy.com/easy-jquery-for-beginner...     True  100.0   \n",
       "3679  https://www.udemy.com/how-to-make-a-wordpress-...     True   25.0   \n",
       "3680  https://www.udemy.com/learn-and-build-using-po...     True   40.0   \n",
       "3681  https://www.udemy.com/css-animations-create-am...     True   50.0   \n",
       "3682  https://www.udemy.com/using-modx-cms-to-build-...     True   45.0   \n",
       "\n",
       "      num_subscribers  num_reviews  num_lectures               level  \\\n",
       "0                2147           23            51          All Levels   \n",
       "1                2792          923           274          All Levels   \n",
       "2                2174           74            51  Intermediate Level   \n",
       "3                2451           11            36          All Levels   \n",
       "4                1276           45            26  Intermediate Level   \n",
       "...               ...          ...           ...                 ...   \n",
       "3678             1040           14            21          All Levels   \n",
       "3679              306            3            42      Beginner Level   \n",
       "3680              513          169            48          All Levels   \n",
       "3681              300           31            38          All Levels   \n",
       "3682              901           36            20      Beginner Level   \n",
       "\n",
       "     content_duration   published_timestamp           subject  \\\n",
       "0           1.5 hours  2017-01-18T20:58:58Z  Business Finance   \n",
       "1            39 hours  2017-03-09T16:34:20Z  Business Finance   \n",
       "2           2.5 hours  2016-12-19T19:26:30Z  Business Finance   \n",
       "3             3 hours  2017-05-30T20:07:24Z  Business Finance   \n",
       "4             2 hours  2016-12-13T14:57:18Z  Business Finance   \n",
       "...               ...                   ...               ...   \n",
       "3678          2 hours  2016-06-14T17:36:46Z   Web Development   \n",
       "3679        3.5 hours  2017-03-10T22:24:30Z   Web Development   \n",
       "3680        3.5 hours  2015-12-30T16:41:42Z   Web Development   \n",
       "3681          3 hours  2016-08-11T19:06:15Z   Web Development   \n",
       "3682          2 hours  2014-09-28T19:51:11Z   Web Development   \n",
       "\n",
       "                                     clean_course_title    profit  \\\n",
       "0                    Ultimate Investment Banking Course  429400.0   \n",
       "1     Complete GST Course  Certification  Grow Practice  209400.0   \n",
       "2      Financial Modeling Business Analysts Consultants   97830.0   \n",
       "3           Beginner Pro  Financial Analysis Excel 2017  232845.0   \n",
       "4                      Maximize Profits Trading Options  255200.0   \n",
       "...                                                 ...       ...   \n",
       "3678    Learn jQuery Scratch  Master JavaScript library  104000.0   \n",
       "3679                    Design WordPress Website Coding    7650.0   \n",
       "3680                                Learn Build Polymer   20520.0   \n",
       "3681      CSS Animations Create Amazing Effects Website   15000.0   \n",
       "3682            MODX CMS Build Websites Beginners Guide   40545.0   \n",
       "\n",
       "      course_title_lenght published_date  \n",
       "0                      34     2017-01-18  \n",
       "1                      59     2017-03-09  \n",
       "2                      56     2016-12-19  \n",
       "3                      50     2017-05-30  \n",
       "4                      44     2016-12-13  \n",
       "...                   ...            ...  \n",
       "3678                   56     2016-06-14  \n",
       "3679                   55     2017-03-10  \n",
       "3680                   29     2015-12-30  \n",
       "3681                   54     2016-08-11  \n",
       "3682                   52     2014-09-28  \n",
       "\n",
       "[3683 rows x 17 columns]"
      ]
     },
     "execution_count": 139,
     "metadata": {},
     "output_type": "execute_result"
    }
   ],
   "source": [
    "df\n"
   ]
  },
  {
   "cell_type": "code",
   "execution_count": 143,
   "id": "ef95e80f-052d-43ac-a5d1-14c50c3e81b0",
   "metadata": {},
   "outputs": [],
   "source": [
    "df['published_date']=df['published_date'].str.replace('3 hours','2017-01-01')"
   ]
  },
  {
   "cell_type": "code",
   "execution_count": 147,
   "id": "e69024fc-2e45-4a55-8b98-170a42dbb6e2",
   "metadata": {},
   "outputs": [],
   "source": [
    "df['published_date']=pd.to_datetime(df['published_date'],format=\"%Y-%m-%d\")"
   ]
  },
  {
   "cell_type": "code",
   "execution_count": 149,
   "id": "f377d86e-f421-4fee-9a9c-79f4639c7ea4",
   "metadata": {},
   "outputs": [
    {
     "data": {
      "text/plain": [
       "Unnamed: 0                      int64\n",
       "course_id                       int64\n",
       "course_title                   object\n",
       "url                            object\n",
       "is_paid                          bool\n",
       "price                         float64\n",
       "num_subscribers                 int64\n",
       "num_reviews                     int64\n",
       "num_lectures                    int64\n",
       "level                          object\n",
       "content_duration               object\n",
       "published_timestamp            object\n",
       "subject                        object\n",
       "clean_course_title             object\n",
       "profit                        float64\n",
       "course_title_lenght             int64\n",
       "published_date         datetime64[ns]\n",
       "dtype: object"
      ]
     },
     "execution_count": 149,
     "metadata": {},
     "output_type": "execute_result"
    }
   ],
   "source": [
    "df.dtypes"
   ]
  },
  {
   "cell_type": "code",
   "execution_count": 151,
   "id": "ec41d9b3-6545-4324-8c79-bf1f15af92b7",
   "metadata": {},
   "outputs": [
    {
     "name": "stdout",
     "output_type": "stream",
     "text": [
      "<class 'pandas.core.frame.DataFrame'>\n",
      "RangeIndex: 3683 entries, 0 to 3682\n",
      "Data columns (total 17 columns):\n",
      " #   Column               Non-Null Count  Dtype         \n",
      "---  ------               --------------  -----         \n",
      " 0   Unnamed: 0           3683 non-null   int64         \n",
      " 1   course_id            3683 non-null   int64         \n",
      " 2   course_title         3683 non-null   object        \n",
      " 3   url                  3683 non-null   object        \n",
      " 4   is_paid              3683 non-null   bool          \n",
      " 5   price                3683 non-null   float64       \n",
      " 6   num_subscribers      3683 non-null   int64         \n",
      " 7   num_reviews          3683 non-null   int64         \n",
      " 8   num_lectures         3683 non-null   int64         \n",
      " 9   level                3683 non-null   object        \n",
      " 10  content_duration     3683 non-null   object        \n",
      " 11  published_timestamp  3683 non-null   object        \n",
      " 12  subject              3683 non-null   object        \n",
      " 13  clean_course_title   3663 non-null   object        \n",
      " 14  profit               3683 non-null   float64       \n",
      " 15  course_title_lenght  3683 non-null   int64         \n",
      " 16  published_date       3683 non-null   datetime64[ns]\n",
      "dtypes: bool(1), datetime64[ns](1), float64(2), int64(6), object(7)\n",
      "memory usage: 464.1+ KB\n"
     ]
    }
   ],
   "source": [
    "df.info()"
   ]
  },
  {
   "cell_type": "code",
   "execution_count": 155,
   "id": "2d74e797-2cf9-4607-8363-baea459f4314",
   "metadata": {},
   "outputs": [],
   "source": [
    "df['year']=df['published_date'].dt.year\n",
    "df['month']=df['published_date'].dt.month\n",
    "df['day']=df['published_date'].dt.day\n"
   ]
  },
  {
   "cell_type": "code",
   "execution_count": 173,
   "id": "8a4bed28-2557-42cc-87a0-008ea987010f",
   "metadata": {},
   "outputs": [
    {
     "data": {
      "text/plain": [
       "array([2017, 2016, 2014, 2015, 2013, 2012, 2011])"
      ]
     },
     "execution_count": 173,
     "metadata": {},
     "output_type": "execute_result"
    }
   ],
   "source": [
    "df['year'].unique()"
   ]
  },
  {
   "cell_type": "code",
   "execution_count": 175,
   "id": "50097c7d-ddaf-4ea9-86af-7de4fbd6538c",
   "metadata": {},
   "outputs": [
    {
     "data": {
      "text/plain": [
       "year\n",
       "2011     119028\n",
       "2012     555339\n",
       "2013    1723438\n",
       "2014    1930406\n",
       "2015    3475324\n",
       "2016    2966644\n",
       "2017     991007\n",
       "Name: num_subscribers, dtype: int64"
      ]
     },
     "execution_count": 175,
     "metadata": {},
     "output_type": "execute_result"
    }
   ],
   "source": [
    "df.groupby('year')['num_subscribers'].sum()"
   ]
  },
  {
   "cell_type": "code",
   "execution_count": 179,
   "id": "9d7f8115-10fc-4a36-9c41-51316f622ea7",
   "metadata": {},
   "outputs": [
    {
     "data": {
      "image/png": "[encoded data removed]",
      "text/plain": [
       "<Figure size 640x480 with 1 Axes>"
      ]
     },
     "metadata": {},
     "output_type": "display_data"
    }
   ],
   "source": [
    "df.groupby('year')['num_subscribers'].sum().plot(kind='bar')\n",
    "plt.title('Num of subscribers per year')\n",
    "plt.xticks(rotation=45)\n",
    "\n",
    "plt.show()"
   ]
  },
  {
   "cell_type": "code",
   "execution_count": 187,
   "id": "42adbdc0-4fb3-4449-a517-b4350f8b27fe",
   "metadata": {},
   "outputs": [
    {
     "name": "stderr",
     "output_type": "stream",
     "text": [
      "C:\\Users\\Data-DCS\\AppData\\Local\\Temp\\ipykernel_14360\\1776174963.py:2: FutureWarning: \n",
      "\n",
      "The `ci` parameter is deprecated. Use `errorbar=None` for the same effect.\n",
      "\n",
      "  sns.lineplot(x='year',y='num_subscribers' , hue='subject' ,data=df , ci=None)\n"
     ]
    },
    {
     "data": {
      "text/plain": [
       "<function matplotlib.pyplot.show(close=None, block=None)>"
      ]
     },
     "execution_count": 187,
     "metadata": {},
     "output_type": "execute_result"
    },
    {
     "data": {
      "image/png": "[encoded data removed]",
      "text/plain": [
       "<Figure size 2000x1000 with 1 Axes>"
      ]
     },
     "metadata": {},
     "output_type": "display_data"
    }
   ],
   "source": [
    "plt.figure(figsize=(20,10))\n",
    "sns.lineplot(x='year',y='num_subscribers' , hue='subject' ,data=df , ci=None)\n",
    "plt.xticks(rotation=45)\n",
    "plt.show"
   ]
  },
  {
   "cell_type": "code",
   "execution_count": null,
   "id": "ead1936f-5e84-48bc-8da9-3a173381048c",
   "metadata": {},
   "outputs": [],
   "source": []
  }
 ],
 "metadata": {
  "kernelspec": {
   "display_name": "Python 3 (ipykernel)",
   "language": "python",
   "name": "python3"
  },
  "language_info": {
   "codemirror_mode": {
    "name": "ipython",
    "version": 3
   },
   "file_extension": ".py",
   "mimetype": "text/x-python",
   "name": "python",
   "nbconvert_exporter": "python",
   "pygments_lexer": "ipython3",
   "version": "3.12.4"
  }
 },
 "nbformat": 4,
 "nbformat_minor": 5
}
